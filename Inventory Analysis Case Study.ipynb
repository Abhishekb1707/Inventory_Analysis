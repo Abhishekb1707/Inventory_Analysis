{
 "cells": [
  {
   "cell_type": "markdown",
   "id": "51b8c2e1",
   "metadata": {},
   "source": [
    "# Inventory Data Analysis\n",
    "\n",
    "__Introduction__\n",
    "\n",
    "Analyzing inventory data iis crucial for bussinesses to streamline operaations, optimize stck levels, and enhance overall efficiency. By delving into inventory data, organizations can gain valuable insights into product demand, supply chain performance, seasonality, annd potential areas for coast savings. through a comprehensive analysis, patterns, trends, and within inventory can be identified, enavling informed decision-making and strategic planning.\n",
    "\n",
    "__Objectives:__ The primary objectives of the inventory analysis are as follows:\n",
    "\n",
    "determine the ooptimal inventory levels for raw materials, WIP, and finished goods.\n",
    "\n",
    "Identify opportunities to reduce stockouts and excess invenntory.\n",
    "\n",
    "Analyze inventory turnover and carrying costs to optimize working capital.\n",
    "\n",
    "Streamline the procurement and production processes to improve efficieency.\n",
    "\n",
    "__Inventory Analysis__\n",
    "\n",
    "Inventory analysis involves evaluatinng various aspects of company's stock of goods. It encompasses tracking, managing and optimizing the  flow of products or amterials. Key elements include inventory turnover, ABC analysis (categotizing items by  value), demand forecasting, and cost analysis. The goaal is to strike a balance between stoking enough to meet demand without overstoking, thereby minimizing storage costs while ensuring products are available when needed.\n",
    "\n",
    "__Sales Analysis__\n",
    "\n",
    "Sales analysis focuses on understanding and interpreting sales data to make informed business decision. It  involves examining sales trends, identifying top-performing products or services, analyzing customer  behaviour, and assessing the effictiveness of sales strategies. This analysis often includes metrics like sales growth, customer acquisition rates, and average purchase value. The insights gained hellp refine marketing strategies, optimize pricing, and tailor offerings to meet customer preferences.\n",
    "\n",
    "__Purchasing Analysis:__\n",
    "\n",
    "Purchassing analysis involves scrutinizing procurement and purchasing activities. It encompasses evaluating supplier performance, analyzing purchase pattern, assessing costs, andd optimizing purchasing processes. Key metrics include supplier  lead times, order accuracy, cost per unit."
   ]
  },
  {
   "cell_type": "markdown",
   "id": "e3e4910c",
   "metadata": {},
   "source": [
    "#### Importing Libraries"
   ]
  },
  {
   "cell_type": "code",
   "execution_count": 1,
   "id": "23382594",
   "metadata": {},
   "outputs": [],
   "source": [
    "import pandas as pd\n",
    "import numpy as np\n",
    "import matplotlib.pyplot as plt\n",
    "import seaborn as sns\n",
    "import warnings\n",
    "warnings.filterwarnings('ignore')"
   ]
  },
  {
   "cell_type": "markdown",
   "id": "b6ede133",
   "metadata": {},
   "source": [
    "#### Importing Data"
   ]
  },
  {
   "cell_type": "code",
   "execution_count": 2,
   "id": "d3a70e30",
   "metadata": {},
   "outputs": [],
   "source": [
    "PurchasePrice = pd.read_csv('2017PurchasePricesDec.csv') \n",
    "BegInv = pd.read_csv('BegInvFINAL12312016.csv')  \n",
    "EndInv = pd.read_csv('EndInvFINAL12312016.csv')  \n",
    "Purchases = pd.read_csv('InvoicePurchases12312016.csv')  \n",
    "PurchaseFinal = pd.read_csv('PurchasesFINAL12312016.csv')  \n",
    "SalesFinal = pd.read_csv('SalesFINAL12312016.csv')  "
   ]
  },
  {
   "cell_type": "markdown",
   "id": "5df36956",
   "metadata": {},
   "source": [
    "#### Data Exploration"
   ]
  },
  {
   "cell_type": "markdown",
   "id": "bcd32d1c",
   "metadata": {},
   "source": [
    "### Purchase Price Analysis"
   ]
  },
  {
   "cell_type": "code",
   "execution_count": 3,
   "id": "e1be50aa",
   "metadata": {},
   "outputs": [
    {
     "data": {
      "text/html": [
       "<div>\n",
       "<style scoped>\n",
       "    .dataframe tbody tr th:only-of-type {\n",
       "        vertical-align: middle;\n",
       "    }\n",
       "\n",
       "    .dataframe tbody tr th {\n",
       "        vertical-align: top;\n",
       "    }\n",
       "\n",
       "    .dataframe thead th {\n",
       "        text-align: right;\n",
       "    }\n",
       "</style>\n",
       "<table border=\"1\" class=\"dataframe\">\n",
       "  <thead>\n",
       "    <tr style=\"text-align: right;\">\n",
       "      <th></th>\n",
       "      <th>Brand</th>\n",
       "      <th>Description</th>\n",
       "      <th>Price</th>\n",
       "      <th>Size</th>\n",
       "      <th>Volume</th>\n",
       "      <th>Classification</th>\n",
       "      <th>PurchasePrice</th>\n",
       "      <th>VendorNumber</th>\n",
       "      <th>VendorName</th>\n",
       "    </tr>\n",
       "  </thead>\n",
       "  <tbody>\n",
       "    <tr>\n",
       "      <th>0</th>\n",
       "      <td>58</td>\n",
       "      <td>Gekkeikan Black &amp; Gold Sake</td>\n",
       "      <td>12.99</td>\n",
       "      <td>750mL</td>\n",
       "      <td>750</td>\n",
       "      <td>1</td>\n",
       "      <td>9.28</td>\n",
       "      <td>8320</td>\n",
       "      <td>SHAW ROSS INT L IMP LTD</td>\n",
       "    </tr>\n",
       "    <tr>\n",
       "      <th>1</th>\n",
       "      <td>62</td>\n",
       "      <td>Herradura Silver Tequila</td>\n",
       "      <td>36.99</td>\n",
       "      <td>750mL</td>\n",
       "      <td>750</td>\n",
       "      <td>1</td>\n",
       "      <td>28.67</td>\n",
       "      <td>1128</td>\n",
       "      <td>BROWN-FORMAN CORP</td>\n",
       "    </tr>\n",
       "    <tr>\n",
       "      <th>2</th>\n",
       "      <td>63</td>\n",
       "      <td>Herradura Reposado Tequila</td>\n",
       "      <td>38.99</td>\n",
       "      <td>750mL</td>\n",
       "      <td>750</td>\n",
       "      <td>1</td>\n",
       "      <td>30.46</td>\n",
       "      <td>1128</td>\n",
       "      <td>BROWN-FORMAN CORP</td>\n",
       "    </tr>\n",
       "    <tr>\n",
       "      <th>3</th>\n",
       "      <td>72</td>\n",
       "      <td>No. 3 London Dry Gin</td>\n",
       "      <td>34.99</td>\n",
       "      <td>750mL</td>\n",
       "      <td>750</td>\n",
       "      <td>1</td>\n",
       "      <td>26.11</td>\n",
       "      <td>9165</td>\n",
       "      <td>ULTRA BEVERAGE COMPANY LLP</td>\n",
       "    </tr>\n",
       "    <tr>\n",
       "      <th>4</th>\n",
       "      <td>75</td>\n",
       "      <td>Three Olives Tomato Vodka</td>\n",
       "      <td>14.99</td>\n",
       "      <td>750mL</td>\n",
       "      <td>750</td>\n",
       "      <td>1</td>\n",
       "      <td>10.94</td>\n",
       "      <td>7245</td>\n",
       "      <td>PROXIMO SPIRITS INC.</td>\n",
       "    </tr>\n",
       "  </tbody>\n",
       "</table>\n",
       "</div>"
      ],
      "text/plain": [
       "   Brand                  Description  Price   Size Volume  Classification  \\\n",
       "0     58  Gekkeikan Black & Gold Sake  12.99  750mL    750               1   \n",
       "1     62     Herradura Silver Tequila  36.99  750mL    750               1   \n",
       "2     63   Herradura Reposado Tequila  38.99  750mL    750               1   \n",
       "3     72         No. 3 London Dry Gin  34.99  750mL    750               1   \n",
       "4     75    Three Olives Tomato Vodka  14.99  750mL    750               1   \n",
       "\n",
       "   PurchasePrice  VendorNumber                   VendorName  \n",
       "0           9.28          8320  SHAW ROSS INT L IMP LTD      \n",
       "1          28.67          1128  BROWN-FORMAN CORP            \n",
       "2          30.46          1128  BROWN-FORMAN CORP            \n",
       "3          26.11          9165  ULTRA BEVERAGE COMPANY LLP   \n",
       "4          10.94          7245  PROXIMO SPIRITS INC.         "
      ]
     },
     "execution_count": 3,
     "metadata": {},
     "output_type": "execute_result"
    }
   ],
   "source": [
    "PurchasePrice.head()"
   ]
  },
  {
   "cell_type": "code",
   "execution_count": 4,
   "id": "f9a84d9d",
   "metadata": {},
   "outputs": [
    {
     "data": {
      "text/plain": [
       "(12261, 9)"
      ]
     },
     "execution_count": 4,
     "metadata": {},
     "output_type": "execute_result"
    }
   ],
   "source": [
    "# Display the number of rows and columns in the PurchasePricce Dataframe\n",
    "PurchasePrice.shape"
   ]
  },
  {
   "cell_type": "code",
   "execution_count": 5,
   "id": "cb936034",
   "metadata": {},
   "outputs": [
    {
     "name": "stdout",
     "output_type": "stream",
     "text": [
      "<class 'pandas.core.frame.DataFrame'>\n",
      "RangeIndex: 12261 entries, 0 to 12260\n",
      "Data columns (total 9 columns):\n",
      " #   Column          Non-Null Count  Dtype  \n",
      "---  ------          --------------  -----  \n",
      " 0   Brand           12261 non-null  int64  \n",
      " 1   Description     12260 non-null  object \n",
      " 2   Price           12261 non-null  float64\n",
      " 3   Size            12260 non-null  object \n",
      " 4   Volume          12260 non-null  object \n",
      " 5   Classification  12261 non-null  int64  \n",
      " 6   PurchasePrice   12261 non-null  float64\n",
      " 7   VendorNumber    12261 non-null  int64  \n",
      " 8   VendorName      12261 non-null  object \n",
      "dtypes: float64(2), int64(3), object(4)\n",
      "memory usage: 862.2+ KB\n"
     ]
    }
   ],
   "source": [
    "# Display information about the dataframe, datatype and non null value count\n",
    "PurchasePrice.info()"
   ]
  },
  {
   "cell_type": "code",
   "execution_count": 6,
   "id": "99669d45",
   "metadata": {},
   "outputs": [
    {
     "data": {
      "text/html": [
       "<div>\n",
       "<style scoped>\n",
       "    .dataframe tbody tr th:only-of-type {\n",
       "        vertical-align: middle;\n",
       "    }\n",
       "\n",
       "    .dataframe tbody tr th {\n",
       "        vertical-align: top;\n",
       "    }\n",
       "\n",
       "    .dataframe thead th {\n",
       "        text-align: right;\n",
       "    }\n",
       "</style>\n",
       "<table border=\"1\" class=\"dataframe\">\n",
       "  <thead>\n",
       "    <tr style=\"text-align: right;\">\n",
       "      <th></th>\n",
       "      <th>count</th>\n",
       "      <th>mean</th>\n",
       "      <th>std</th>\n",
       "      <th>min</th>\n",
       "      <th>25%</th>\n",
       "      <th>50%</th>\n",
       "      <th>75%</th>\n",
       "      <th>max</th>\n",
       "    </tr>\n",
       "  </thead>\n",
       "  <tbody>\n",
       "    <tr>\n",
       "      <th>Brand</th>\n",
       "      <td>12261.0</td>\n",
       "      <td>17989.067123</td>\n",
       "      <td>12528.503464</td>\n",
       "      <td>58.0</td>\n",
       "      <td>5990.00</td>\n",
       "      <td>18788.00</td>\n",
       "      <td>25117.00</td>\n",
       "      <td>90631.00</td>\n",
       "    </tr>\n",
       "    <tr>\n",
       "      <th>Price</th>\n",
       "      <td>12261.0</td>\n",
       "      <td>38.640240</td>\n",
       "      <td>206.151172</td>\n",
       "      <td>0.0</td>\n",
       "      <td>10.99</td>\n",
       "      <td>15.99</td>\n",
       "      <td>29.99</td>\n",
       "      <td>13999.90</td>\n",
       "    </tr>\n",
       "    <tr>\n",
       "      <th>Classification</th>\n",
       "      <td>12261.0</td>\n",
       "      <td>1.708996</td>\n",
       "      <td>0.454244</td>\n",
       "      <td>1.0</td>\n",
       "      <td>1.00</td>\n",
       "      <td>2.00</td>\n",
       "      <td>2.00</td>\n",
       "      <td>2.00</td>\n",
       "    </tr>\n",
       "    <tr>\n",
       "      <th>PurchasePrice</th>\n",
       "      <td>12261.0</td>\n",
       "      <td>26.488220</td>\n",
       "      <td>156.182948</td>\n",
       "      <td>0.0</td>\n",
       "      <td>6.89</td>\n",
       "      <td>10.65</td>\n",
       "      <td>20.13</td>\n",
       "      <td>11111.03</td>\n",
       "    </tr>\n",
       "    <tr>\n",
       "      <th>VendorNumber</th>\n",
       "      <td>12261.0</td>\n",
       "      <td>10814.861757</td>\n",
       "      <td>19007.682322</td>\n",
       "      <td>2.0</td>\n",
       "      <td>3960.00</td>\n",
       "      <td>7153.00</td>\n",
       "      <td>9552.00</td>\n",
       "      <td>173357.00</td>\n",
       "    </tr>\n",
       "  </tbody>\n",
       "</table>\n",
       "</div>"
      ],
      "text/plain": [
       "                  count          mean           std   min      25%       50%  \\\n",
       "Brand           12261.0  17989.067123  12528.503464  58.0  5990.00  18788.00   \n",
       "Price           12261.0     38.640240    206.151172   0.0    10.99     15.99   \n",
       "Classification  12261.0      1.708996      0.454244   1.0     1.00      2.00   \n",
       "PurchasePrice   12261.0     26.488220    156.182948   0.0     6.89     10.65   \n",
       "VendorNumber    12261.0  10814.861757  19007.682322   2.0  3960.00   7153.00   \n",
       "\n",
       "                     75%        max  \n",
       "Brand           25117.00   90631.00  \n",
       "Price              29.99   13999.90  \n",
       "Classification      2.00       2.00  \n",
       "PurchasePrice      20.13   11111.03  \n",
       "VendorNumber     9552.00  173357.00  "
      ]
     },
     "execution_count": 6,
     "metadata": {},
     "output_type": "execute_result"
    }
   ],
   "source": [
    "# Generate descriptive statistics for the columns in the PurchasePrice DataFrame\n",
    "PurchasePrice.describe().T"
   ]
  },
  {
   "cell_type": "code",
   "execution_count": 7,
   "id": "be45c6c4",
   "metadata": {},
   "outputs": [
    {
     "data": {
      "text/plain": [
       "Brand             0\n",
       "Description       1\n",
       "Price             0\n",
       "Size              1\n",
       "Volume            1\n",
       "Classification    0\n",
       "PurchasePrice     0\n",
       "VendorNumber      0\n",
       "VendorName        0\n",
       "dtype: int64"
      ]
     },
     "execution_count": 7,
     "metadata": {},
     "output_type": "execute_result"
    }
   ],
   "source": [
    "# Count the number of null values in each columns\n",
    "PurchasePrice.isnull().sum()"
   ]
  },
  {
   "cell_type": "code",
   "execution_count": 8,
   "id": "60135793",
   "metadata": {},
   "outputs": [
    {
     "data": {
      "text/html": [
       "<div>\n",
       "<style scoped>\n",
       "    .dataframe tbody tr th:only-of-type {\n",
       "        vertical-align: middle;\n",
       "    }\n",
       "\n",
       "    .dataframe tbody tr th {\n",
       "        vertical-align: top;\n",
       "    }\n",
       "\n",
       "    .dataframe thead th {\n",
       "        text-align: right;\n",
       "    }\n",
       "</style>\n",
       "<table border=\"1\" class=\"dataframe\">\n",
       "  <thead>\n",
       "    <tr style=\"text-align: right;\">\n",
       "      <th></th>\n",
       "      <th>Brand</th>\n",
       "      <th>Description</th>\n",
       "      <th>Price</th>\n",
       "      <th>Size</th>\n",
       "      <th>Volume</th>\n",
       "      <th>Classification</th>\n",
       "      <th>PurchasePrice</th>\n",
       "      <th>VendorNumber</th>\n",
       "      <th>VendorName</th>\n",
       "    </tr>\n",
       "  </thead>\n",
       "  <tbody>\n",
       "    <tr>\n",
       "      <th>7915</th>\n",
       "      <td>4202</td>\n",
       "      <td>NaN</td>\n",
       "      <td>0.0</td>\n",
       "      <td>NaN</td>\n",
       "      <td>NaN</td>\n",
       "      <td>1</td>\n",
       "      <td>11.19</td>\n",
       "      <td>480</td>\n",
       "      <td>BACARDI USA INC</td>\n",
       "    </tr>\n",
       "  </tbody>\n",
       "</table>\n",
       "</div>"
      ],
      "text/plain": [
       "      Brand Description  Price Size Volume  Classification  PurchasePrice  \\\n",
       "7915   4202         NaN    0.0  NaN    NaN               1          11.19   \n",
       "\n",
       "      VendorNumber                   VendorName  \n",
       "7915           480  BACARDI USA INC              "
      ]
     },
     "execution_count": 8,
     "metadata": {},
     "output_type": "execute_result"
    }
   ],
   "source": [
    "# Checking the null value in the 'description' column\n",
    "PurchasePrice[PurchasePrice['Description'].isnull()]"
   ]
  },
  {
   "cell_type": "code",
   "execution_count": 9,
   "id": "8d03d1f6",
   "metadata": {},
   "outputs": [],
   "source": [
    "# Dropping the null value in the PurchasePrice Dataframe. \n",
    "PurchasePrice.dropna(inplace = True)"
   ]
  },
  {
   "cell_type": "code",
   "execution_count": 10,
   "id": "88c0c7d4",
   "metadata": {},
   "outputs": [
    {
     "data": {
      "text/html": [
       "<div>\n",
       "<style scoped>\n",
       "    .dataframe tbody tr th:only-of-type {\n",
       "        vertical-align: middle;\n",
       "    }\n",
       "\n",
       "    .dataframe tbody tr th {\n",
       "        vertical-align: top;\n",
       "    }\n",
       "\n",
       "    .dataframe thead th {\n",
       "        text-align: right;\n",
       "    }\n",
       "</style>\n",
       "<table border=\"1\" class=\"dataframe\">\n",
       "  <thead>\n",
       "    <tr style=\"text-align: right;\">\n",
       "      <th></th>\n",
       "      <th>Brand</th>\n",
       "      <th>Price</th>\n",
       "      <th>Classification</th>\n",
       "      <th>PurchasePrice</th>\n",
       "      <th>VendorNumber</th>\n",
       "    </tr>\n",
       "  </thead>\n",
       "  <tbody>\n",
       "    <tr>\n",
       "      <th>Brand</th>\n",
       "      <td>1.000000</td>\n",
       "      <td>-0.035824</td>\n",
       "      <td>0.733686</td>\n",
       "      <td>-0.043301</td>\n",
       "      <td>0.062648</td>\n",
       "    </tr>\n",
       "    <tr>\n",
       "      <th>Price</th>\n",
       "      <td>-0.035824</td>\n",
       "      <td>1.000000</td>\n",
       "      <td>-0.047130</td>\n",
       "      <td>0.997658</td>\n",
       "      <td>-0.014470</td>\n",
       "    </tr>\n",
       "    <tr>\n",
       "      <th>Classification</th>\n",
       "      <td>0.733686</td>\n",
       "      <td>-0.047130</td>\n",
       "      <td>1.000000</td>\n",
       "      <td>-0.056458</td>\n",
       "      <td>0.093307</td>\n",
       "    </tr>\n",
       "    <tr>\n",
       "      <th>PurchasePrice</th>\n",
       "      <td>-0.043301</td>\n",
       "      <td>0.997658</td>\n",
       "      <td>-0.056458</td>\n",
       "      <td>1.000000</td>\n",
       "      <td>-0.014135</td>\n",
       "    </tr>\n",
       "    <tr>\n",
       "      <th>VendorNumber</th>\n",
       "      <td>0.062648</td>\n",
       "      <td>-0.014470</td>\n",
       "      <td>0.093307</td>\n",
       "      <td>-0.014135</td>\n",
       "      <td>1.000000</td>\n",
       "    </tr>\n",
       "  </tbody>\n",
       "</table>\n",
       "</div>"
      ],
      "text/plain": [
       "                   Brand     Price  Classification  PurchasePrice  \\\n",
       "Brand           1.000000 -0.035824        0.733686      -0.043301   \n",
       "Price          -0.035824  1.000000       -0.047130       0.997658   \n",
       "Classification  0.733686 -0.047130        1.000000      -0.056458   \n",
       "PurchasePrice  -0.043301  0.997658       -0.056458       1.000000   \n",
       "VendorNumber    0.062648 -0.014470        0.093307      -0.014135   \n",
       "\n",
       "                VendorNumber  \n",
       "Brand               0.062648  \n",
       "Price              -0.014470  \n",
       "Classification      0.093307  \n",
       "PurchasePrice      -0.014135  \n",
       "VendorNumber        1.000000  "
      ]
     },
     "execution_count": 10,
     "metadata": {},
     "output_type": "execute_result"
    }
   ],
   "source": [
    "#  Calculate the correlation between numeric column.\n",
    "PurchasePrice.corr()"
   ]
  },
  {
   "cell_type": "code",
   "execution_count": 11,
   "id": "3f984efd",
   "metadata": {},
   "outputs": [
    {
     "data": {
      "image/png": "[encoded data removed]",
      "text/plain": [
       "<Figure size 720x576 with 2 Axes>"
      ]
     },
     "metadata": {
      "needs_background": "light"
     },
     "output_type": "display_data"
    }
   ],
   "source": [
    "# Create a heatmap to visualize the correlation matrix using Seaborn\n",
    "plt.figure(figsize = (10,8))\n",
    "sns.heatmap(PurchasePrice.corr(), annot = True)\n",
    "plt.show()"
   ]
  },
  {
   "cell_type": "markdown",
   "id": "b66bd38b",
   "metadata": {},
   "source": [
    "### Beginning Inventory Analysis"
   ]
  },
  {
   "cell_type": "code",
   "execution_count": 12,
   "id": "cc777bb8",
   "metadata": {},
   "outputs": [
    {
     "data": {
      "text/html": [
       "<div>\n",
       "<style scoped>\n",
       "    .dataframe tbody tr th:only-of-type {\n",
       "        vertical-align: middle;\n",
       "    }\n",
       "\n",
       "    .dataframe tbody tr th {\n",
       "        vertical-align: top;\n",
       "    }\n",
       "\n",
       "    .dataframe thead th {\n",
       "        text-align: right;\n",
       "    }\n",
       "</style>\n",
       "<table border=\"1\" class=\"dataframe\">\n",
       "  <thead>\n",
       "    <tr style=\"text-align: right;\">\n",
       "      <th></th>\n",
       "      <th>InventoryId</th>\n",
       "      <th>Store</th>\n",
       "      <th>City</th>\n",
       "      <th>Brand</th>\n",
       "      <th>Description</th>\n",
       "      <th>Size</th>\n",
       "      <th>onHand</th>\n",
       "      <th>Price</th>\n",
       "      <th>startDate</th>\n",
       "    </tr>\n",
       "  </thead>\n",
       "  <tbody>\n",
       "    <tr>\n",
       "      <th>0</th>\n",
       "      <td>1_HARDERSFIELD_58</td>\n",
       "      <td>1</td>\n",
       "      <td>HARDERSFIELD</td>\n",
       "      <td>58</td>\n",
       "      <td>Gekkeikan Black &amp; Gold Sake</td>\n",
       "      <td>750mL</td>\n",
       "      <td>8</td>\n",
       "      <td>12.99</td>\n",
       "      <td>2016-01-01</td>\n",
       "    </tr>\n",
       "    <tr>\n",
       "      <th>1</th>\n",
       "      <td>1_HARDERSFIELD_60</td>\n",
       "      <td>1</td>\n",
       "      <td>HARDERSFIELD</td>\n",
       "      <td>60</td>\n",
       "      <td>Canadian Club 1858 VAP</td>\n",
       "      <td>750mL</td>\n",
       "      <td>7</td>\n",
       "      <td>10.99</td>\n",
       "      <td>2016-01-01</td>\n",
       "    </tr>\n",
       "    <tr>\n",
       "      <th>2</th>\n",
       "      <td>1_HARDERSFIELD_62</td>\n",
       "      <td>1</td>\n",
       "      <td>HARDERSFIELD</td>\n",
       "      <td>62</td>\n",
       "      <td>Herradura Silver Tequila</td>\n",
       "      <td>750mL</td>\n",
       "      <td>6</td>\n",
       "      <td>36.99</td>\n",
       "      <td>2016-01-01</td>\n",
       "    </tr>\n",
       "    <tr>\n",
       "      <th>3</th>\n",
       "      <td>1_HARDERSFIELD_63</td>\n",
       "      <td>1</td>\n",
       "      <td>HARDERSFIELD</td>\n",
       "      <td>63</td>\n",
       "      <td>Herradura Reposado Tequila</td>\n",
       "      <td>750mL</td>\n",
       "      <td>3</td>\n",
       "      <td>38.99</td>\n",
       "      <td>2016-01-01</td>\n",
       "    </tr>\n",
       "    <tr>\n",
       "      <th>4</th>\n",
       "      <td>1_HARDERSFIELD_72</td>\n",
       "      <td>1</td>\n",
       "      <td>HARDERSFIELD</td>\n",
       "      <td>72</td>\n",
       "      <td>No. 3 London Dry Gin</td>\n",
       "      <td>750mL</td>\n",
       "      <td>6</td>\n",
       "      <td>34.99</td>\n",
       "      <td>2016-01-01</td>\n",
       "    </tr>\n",
       "  </tbody>\n",
       "</table>\n",
       "</div>"
      ],
      "text/plain": [
       "         InventoryId  Store          City  Brand                  Description  \\\n",
       "0  1_HARDERSFIELD_58      1  HARDERSFIELD     58  Gekkeikan Black & Gold Sake   \n",
       "1  1_HARDERSFIELD_60      1  HARDERSFIELD     60       Canadian Club 1858 VAP   \n",
       "2  1_HARDERSFIELD_62      1  HARDERSFIELD     62     Herradura Silver Tequila   \n",
       "3  1_HARDERSFIELD_63      1  HARDERSFIELD     63   Herradura Reposado Tequila   \n",
       "4  1_HARDERSFIELD_72      1  HARDERSFIELD     72         No. 3 London Dry Gin   \n",
       "\n",
       "    Size  onHand  Price   startDate  \n",
       "0  750mL       8  12.99  2016-01-01  \n",
       "1  750mL       7  10.99  2016-01-01  \n",
       "2  750mL       6  36.99  2016-01-01  \n",
       "3  750mL       3  38.99  2016-01-01  \n",
       "4  750mL       6  34.99  2016-01-01  "
      ]
     },
     "execution_count": 12,
     "metadata": {},
     "output_type": "execute_result"
    }
   ],
   "source": [
    "# Display the first few rows of the DataFrame \"BegInv\"\n",
    "BegInv.head()"
   ]
  },
  {
   "cell_type": "code",
   "execution_count": 13,
   "id": "8c5e503b",
   "metadata": {},
   "outputs": [
    {
     "data": {
      "text/plain": [
       "(206529, 9)"
      ]
     },
     "execution_count": 13,
     "metadata": {},
     "output_type": "execute_result"
    }
   ],
   "source": [
    "# Display the number of rows and columns in the BegInv Dataframe\n",
    "BegInv.shape"
   ]
  },
  {
   "cell_type": "code",
   "execution_count": 14,
   "id": "45f953b3",
   "metadata": {},
   "outputs": [
    {
     "name": "stdout",
     "output_type": "stream",
     "text": [
      "<class 'pandas.core.frame.DataFrame'>\n",
      "RangeIndex: 206529 entries, 0 to 206528\n",
      "Data columns (total 9 columns):\n",
      " #   Column       Non-Null Count   Dtype  \n",
      "---  ------       --------------   -----  \n",
      " 0   InventoryId  206529 non-null  object \n",
      " 1   Store        206529 non-null  int64  \n",
      " 2   City         206529 non-null  object \n",
      " 3   Brand        206529 non-null  int64  \n",
      " 4   Description  206529 non-null  object \n",
      " 5   Size         206529 non-null  object \n",
      " 6   onHand       206529 non-null  int64  \n",
      " 7   Price        206529 non-null  float64\n",
      " 8   startDate    206529 non-null  object \n",
      "dtypes: float64(1), int64(3), object(5)\n",
      "memory usage: 14.2+ MB\n"
     ]
    }
   ],
   "source": [
    "# Display information about the DataFrame \"BegInv,\" including data types and non-null counts\n",
    "BegInv.info()"
   ]
  },
  {
   "cell_type": "code",
   "execution_count": 15,
   "id": "17d15528",
   "metadata": {},
   "outputs": [
    {
     "data": {
      "text/html": [
       "<div>\n",
       "<style scoped>\n",
       "    .dataframe tbody tr th:only-of-type {\n",
       "        vertical-align: middle;\n",
       "    }\n",
       "\n",
       "    .dataframe tbody tr th {\n",
       "        vertical-align: top;\n",
       "    }\n",
       "\n",
       "    .dataframe thead th {\n",
       "        text-align: right;\n",
       "    }\n",
       "</style>\n",
       "<table border=\"1\" class=\"dataframe\">\n",
       "  <thead>\n",
       "    <tr style=\"text-align: right;\">\n",
       "      <th></th>\n",
       "      <th>count</th>\n",
       "      <th>mean</th>\n",
       "      <th>std</th>\n",
       "      <th>min</th>\n",
       "      <th>25%</th>\n",
       "      <th>50%</th>\n",
       "      <th>75%</th>\n",
       "      <th>max</th>\n",
       "    </tr>\n",
       "  </thead>\n",
       "  <tbody>\n",
       "    <tr>\n",
       "      <th>Store</th>\n",
       "      <td>206529.0</td>\n",
       "      <td>42.122457</td>\n",
       "      <td>23.191393</td>\n",
       "      <td>1.0</td>\n",
       "      <td>22.00</td>\n",
       "      <td>42.00</td>\n",
       "      <td>64.00</td>\n",
       "      <td>79.0</td>\n",
       "    </tr>\n",
       "    <tr>\n",
       "      <th>Brand</th>\n",
       "      <td>206529.0</td>\n",
       "      <td>13761.482320</td>\n",
       "      <td>13059.429355</td>\n",
       "      <td>58.0</td>\n",
       "      <td>3746.00</td>\n",
       "      <td>8010.00</td>\n",
       "      <td>22143.00</td>\n",
       "      <td>90090.0</td>\n",
       "    </tr>\n",
       "    <tr>\n",
       "      <th>onHand</th>\n",
       "      <td>206529.0</td>\n",
       "      <td>20.429455</td>\n",
       "      <td>31.467342</td>\n",
       "      <td>0.0</td>\n",
       "      <td>7.00</td>\n",
       "      <td>12.00</td>\n",
       "      <td>21.00</td>\n",
       "      <td>1251.0</td>\n",
       "    </tr>\n",
       "    <tr>\n",
       "      <th>Price</th>\n",
       "      <td>206529.0</td>\n",
       "      <td>22.253910</td>\n",
       "      <td>70.178964</td>\n",
       "      <td>0.0</td>\n",
       "      <td>9.99</td>\n",
       "      <td>14.99</td>\n",
       "      <td>21.99</td>\n",
       "      <td>13999.9</td>\n",
       "    </tr>\n",
       "  </tbody>\n",
       "</table>\n",
       "</div>"
      ],
      "text/plain": [
       "           count          mean           std   min      25%      50%  \\\n",
       "Store   206529.0     42.122457     23.191393   1.0    22.00    42.00   \n",
       "Brand   206529.0  13761.482320  13059.429355  58.0  3746.00  8010.00   \n",
       "onHand  206529.0     20.429455     31.467342   0.0     7.00    12.00   \n",
       "Price   206529.0     22.253910     70.178964   0.0     9.99    14.99   \n",
       "\n",
       "             75%      max  \n",
       "Store      64.00     79.0  \n",
       "Brand   22143.00  90090.0  \n",
       "onHand     21.00   1251.0  \n",
       "Price      21.99  13999.9  "
      ]
     },
     "execution_count": 15,
     "metadata": {},
     "output_type": "execute_result"
    }
   ],
   "source": [
    "# Generate descriptive statistics for the DataFrame \"BegInv\" and transpose the result for readability\n",
    "BegInv.describe().T"
   ]
  },
  {
   "cell_type": "code",
   "execution_count": 16,
   "id": "6b3fb752",
   "metadata": {},
   "outputs": [
    {
     "data": {
      "text/plain": [
       "InventoryId    0\n",
       "Store          0\n",
       "City           0\n",
       "Brand          0\n",
       "Description    0\n",
       "Size           0\n",
       "onHand         0\n",
       "Price          0\n",
       "startDate      0\n",
       "dtype: int64"
      ]
     },
     "execution_count": 16,
     "metadata": {},
     "output_type": "execute_result"
    }
   ],
   "source": [
    "# Calculate the number of missing (null) values in each column of the DataFrame \"BegInv\"\n",
    "BegInv.isnull().sum()"
   ]
  },
  {
   "cell_type": "code",
   "execution_count": 17,
   "id": "2c7f195b",
   "metadata": {},
   "outputs": [
    {
     "data": {
      "text/html": [
       "<div>\n",
       "<style scoped>\n",
       "    .dataframe tbody tr th:only-of-type {\n",
       "        vertical-align: middle;\n",
       "    }\n",
       "\n",
       "    .dataframe tbody tr th {\n",
       "        vertical-align: top;\n",
       "    }\n",
       "\n",
       "    .dataframe thead th {\n",
       "        text-align: right;\n",
       "    }\n",
       "</style>\n",
       "<table border=\"1\" class=\"dataframe\">\n",
       "  <thead>\n",
       "    <tr style=\"text-align: right;\">\n",
       "      <th></th>\n",
       "      <th>Store</th>\n",
       "      <th>Brand</th>\n",
       "      <th>onHand</th>\n",
       "      <th>Price</th>\n",
       "    </tr>\n",
       "  </thead>\n",
       "  <tbody>\n",
       "    <tr>\n",
       "      <th>Store</th>\n",
       "      <td>1.000000</td>\n",
       "      <td>0.039331</td>\n",
       "      <td>0.077987</td>\n",
       "      <td>0.030347</td>\n",
       "    </tr>\n",
       "    <tr>\n",
       "      <th>Brand</th>\n",
       "      <td>0.039331</td>\n",
       "      <td>1.000000</td>\n",
       "      <td>-0.033851</td>\n",
       "      <td>-0.042091</td>\n",
       "    </tr>\n",
       "    <tr>\n",
       "      <th>onHand</th>\n",
       "      <td>0.077987</td>\n",
       "      <td>-0.033851</td>\n",
       "      <td>1.000000</td>\n",
       "      <td>-0.056660</td>\n",
       "    </tr>\n",
       "    <tr>\n",
       "      <th>Price</th>\n",
       "      <td>0.030347</td>\n",
       "      <td>-0.042091</td>\n",
       "      <td>-0.056660</td>\n",
       "      <td>1.000000</td>\n",
       "    </tr>\n",
       "  </tbody>\n",
       "</table>\n",
       "</div>"
      ],
      "text/plain": [
       "           Store     Brand    onHand     Price\n",
       "Store   1.000000  0.039331  0.077987  0.030347\n",
       "Brand   0.039331  1.000000 -0.033851 -0.042091\n",
       "onHand  0.077987 -0.033851  1.000000 -0.056660\n",
       "Price   0.030347 -0.042091 -0.056660  1.000000"
      ]
     },
     "execution_count": 17,
     "metadata": {},
     "output_type": "execute_result"
    }
   ],
   "source": [
    "# Calculate the correlation matrix for the numeric columns in the 'BegInv' DataFrame.\n",
    "BegInv.corr()"
   ]
  },
  {
   "cell_type": "code",
   "execution_count": 18,
   "id": "cd18b7d0",
   "metadata": {},
   "outputs": [
    {
     "data": {
      "image/png": "[encoded data removed]",
      "text/plain": [
       "<Figure size 720x576 with 2 Axes>"
      ]
     },
     "metadata": {
      "needs_background": "light"
     },
     "output_type": "display_data"
    }
   ],
   "source": [
    "# Create a heatmap visualization of the correlation matrix, using Seaborn\n",
    "plt.figure(figsize = (10,8))\n",
    "sns.heatmap(BegInv.corr(), annot = True)\n",
    "plt.show()"
   ]
  },
  {
   "cell_type": "markdown",
   "id": "0e63b9bd",
   "metadata": {},
   "source": [
    "### Ending Inventory Analysis\n"
   ]
  },
  {
   "cell_type": "code",
   "execution_count": 19,
   "id": "03d68aaf",
   "metadata": {},
   "outputs": [
    {
     "data": {
      "text/html": [
       "<div>\n",
       "<style scoped>\n",
       "    .dataframe tbody tr th:only-of-type {\n",
       "        vertical-align: middle;\n",
       "    }\n",
       "\n",
       "    .dataframe tbody tr th {\n",
       "        vertical-align: top;\n",
       "    }\n",
       "\n",
       "    .dataframe thead th {\n",
       "        text-align: right;\n",
       "    }\n",
       "</style>\n",
       "<table border=\"1\" class=\"dataframe\">\n",
       "  <thead>\n",
       "    <tr style=\"text-align: right;\">\n",
       "      <th></th>\n",
       "      <th>InventoryId</th>\n",
       "      <th>Store</th>\n",
       "      <th>City</th>\n",
       "      <th>Brand</th>\n",
       "      <th>Description</th>\n",
       "      <th>Size</th>\n",
       "      <th>onHand</th>\n",
       "      <th>Price</th>\n",
       "      <th>endDate</th>\n",
       "    </tr>\n",
       "  </thead>\n",
       "  <tbody>\n",
       "    <tr>\n",
       "      <th>0</th>\n",
       "      <td>1_HARDERSFIELD_58</td>\n",
       "      <td>1</td>\n",
       "      <td>HARDERSFIELD</td>\n",
       "      <td>58</td>\n",
       "      <td>Gekkeikan Black &amp; Gold Sake</td>\n",
       "      <td>750mL</td>\n",
       "      <td>11</td>\n",
       "      <td>12.99</td>\n",
       "      <td>2016-12-31</td>\n",
       "    </tr>\n",
       "    <tr>\n",
       "      <th>1</th>\n",
       "      <td>1_HARDERSFIELD_62</td>\n",
       "      <td>1</td>\n",
       "      <td>HARDERSFIELD</td>\n",
       "      <td>62</td>\n",
       "      <td>Herradura Silver Tequila</td>\n",
       "      <td>750mL</td>\n",
       "      <td>7</td>\n",
       "      <td>36.99</td>\n",
       "      <td>2016-12-31</td>\n",
       "    </tr>\n",
       "    <tr>\n",
       "      <th>2</th>\n",
       "      <td>1_HARDERSFIELD_63</td>\n",
       "      <td>1</td>\n",
       "      <td>HARDERSFIELD</td>\n",
       "      <td>63</td>\n",
       "      <td>Herradura Reposado Tequila</td>\n",
       "      <td>750mL</td>\n",
       "      <td>7</td>\n",
       "      <td>38.99</td>\n",
       "      <td>2016-12-31</td>\n",
       "    </tr>\n",
       "    <tr>\n",
       "      <th>3</th>\n",
       "      <td>1_HARDERSFIELD_72</td>\n",
       "      <td>1</td>\n",
       "      <td>HARDERSFIELD</td>\n",
       "      <td>72</td>\n",
       "      <td>No. 3 London Dry Gin</td>\n",
       "      <td>750mL</td>\n",
       "      <td>4</td>\n",
       "      <td>34.99</td>\n",
       "      <td>2016-12-31</td>\n",
       "    </tr>\n",
       "    <tr>\n",
       "      <th>4</th>\n",
       "      <td>1_HARDERSFIELD_75</td>\n",
       "      <td>1</td>\n",
       "      <td>HARDERSFIELD</td>\n",
       "      <td>75</td>\n",
       "      <td>Three Olives Tomato Vodka</td>\n",
       "      <td>750mL</td>\n",
       "      <td>7</td>\n",
       "      <td>14.99</td>\n",
       "      <td>2016-12-31</td>\n",
       "    </tr>\n",
       "  </tbody>\n",
       "</table>\n",
       "</div>"
      ],
      "text/plain": [
       "         InventoryId  Store          City  Brand                  Description  \\\n",
       "0  1_HARDERSFIELD_58      1  HARDERSFIELD     58  Gekkeikan Black & Gold Sake   \n",
       "1  1_HARDERSFIELD_62      1  HARDERSFIELD     62     Herradura Silver Tequila   \n",
       "2  1_HARDERSFIELD_63      1  HARDERSFIELD     63   Herradura Reposado Tequila   \n",
       "3  1_HARDERSFIELD_72      1  HARDERSFIELD     72         No. 3 London Dry Gin   \n",
       "4  1_HARDERSFIELD_75      1  HARDERSFIELD     75    Three Olives Tomato Vodka   \n",
       "\n",
       "    Size  onHand  Price     endDate  \n",
       "0  750mL      11  12.99  2016-12-31  \n",
       "1  750mL       7  36.99  2016-12-31  \n",
       "2  750mL       7  38.99  2016-12-31  \n",
       "3  750mL       4  34.99  2016-12-31  \n",
       "4  750mL       7  14.99  2016-12-31  "
      ]
     },
     "execution_count": 19,
     "metadata": {},
     "output_type": "execute_result"
    }
   ],
   "source": [
    "# Display the first few rows of the 'EndInv' DataFrame to inspect the data.\n",
    "EndInv.head()"
   ]
  },
  {
   "cell_type": "code",
   "execution_count": 20,
   "id": "120113b0",
   "metadata": {},
   "outputs": [
    {
     "data": {
      "text/plain": [
       "(224489, 9)"
      ]
     },
     "execution_count": 20,
     "metadata": {},
     "output_type": "execute_result"
    }
   ],
   "source": [
    "# Get the shape of the 'EndInv' DataFrame, which returns the number of rows and columns.\n",
    "EndInv.shape"
   ]
  },
  {
   "cell_type": "code",
   "execution_count": 21,
   "id": "c30832cd",
   "metadata": {},
   "outputs": [
    {
     "name": "stdout",
     "output_type": "stream",
     "text": [
      "<class 'pandas.core.frame.DataFrame'>\n",
      "RangeIndex: 224489 entries, 0 to 224488\n",
      "Data columns (total 9 columns):\n",
      " #   Column       Non-Null Count   Dtype  \n",
      "---  ------       --------------   -----  \n",
      " 0   InventoryId  224489 non-null  object \n",
      " 1   Store        224489 non-null  int64  \n",
      " 2   City         223205 non-null  object \n",
      " 3   Brand        224489 non-null  int64  \n",
      " 4   Description  224489 non-null  object \n",
      " 5   Size         224489 non-null  object \n",
      " 6   onHand       224489 non-null  int64  \n",
      " 7   Price        224489 non-null  float64\n",
      " 8   endDate      224489 non-null  object \n",
      "dtypes: float64(1), int64(3), object(5)\n",
      "memory usage: 15.4+ MB\n"
     ]
    }
   ],
   "source": [
    "# Display information about the 'EndInv' DataFrame, including data types and non-null values.\n",
    "EndInv.info()"
   ]
  },
  {
   "cell_type": "code",
   "execution_count": 22,
   "id": "3c494b24",
   "metadata": {},
   "outputs": [
    {
     "data": {
      "text/html": [
       "<div>\n",
       "<style scoped>\n",
       "    .dataframe tbody tr th:only-of-type {\n",
       "        vertical-align: middle;\n",
       "    }\n",
       "\n",
       "    .dataframe tbody tr th {\n",
       "        vertical-align: top;\n",
       "    }\n",
       "\n",
       "    .dataframe thead th {\n",
       "        text-align: right;\n",
       "    }\n",
       "</style>\n",
       "<table border=\"1\" class=\"dataframe\">\n",
       "  <thead>\n",
       "    <tr style=\"text-align: right;\">\n",
       "      <th></th>\n",
       "      <th>count</th>\n",
       "      <th>mean</th>\n",
       "      <th>std</th>\n",
       "      <th>min</th>\n",
       "      <th>25%</th>\n",
       "      <th>50%</th>\n",
       "      <th>75%</th>\n",
       "      <th>max</th>\n",
       "    </tr>\n",
       "  </thead>\n",
       "  <tbody>\n",
       "    <tr>\n",
       "      <th>Store</th>\n",
       "      <td>224489.0</td>\n",
       "      <td>43.505740</td>\n",
       "      <td>23.326415</td>\n",
       "      <td>1.00</td>\n",
       "      <td>23.00</td>\n",
       "      <td>44.00</td>\n",
       "      <td>66.00</td>\n",
       "      <td>81.0</td>\n",
       "    </tr>\n",
       "    <tr>\n",
       "      <th>Brand</th>\n",
       "      <td>224489.0</td>\n",
       "      <td>14356.370513</td>\n",
       "      <td>13118.467851</td>\n",
       "      <td>58.00</td>\n",
       "      <td>3798.00</td>\n",
       "      <td>8259.00</td>\n",
       "      <td>23965.00</td>\n",
       "      <td>90631.0</td>\n",
       "    </tr>\n",
       "    <tr>\n",
       "      <th>onHand</th>\n",
       "      <td>224489.0</td>\n",
       "      <td>21.763988</td>\n",
       "      <td>37.233576</td>\n",
       "      <td>0.00</td>\n",
       "      <td>7.00</td>\n",
       "      <td>12.00</td>\n",
       "      <td>22.00</td>\n",
       "      <td>3676.0</td>\n",
       "    </tr>\n",
       "    <tr>\n",
       "      <th>Price</th>\n",
       "      <td>224489.0</td>\n",
       "      <td>23.585583</td>\n",
       "      <td>79.202775</td>\n",
       "      <td>0.49</td>\n",
       "      <td>9.99</td>\n",
       "      <td>14.99</td>\n",
       "      <td>23.49</td>\n",
       "      <td>13999.9</td>\n",
       "    </tr>\n",
       "  </tbody>\n",
       "</table>\n",
       "</div>"
      ],
      "text/plain": [
       "           count          mean           std    min      25%      50%  \\\n",
       "Store   224489.0     43.505740     23.326415   1.00    23.00    44.00   \n",
       "Brand   224489.0  14356.370513  13118.467851  58.00  3798.00  8259.00   \n",
       "onHand  224489.0     21.763988     37.233576   0.00     7.00    12.00   \n",
       "Price   224489.0     23.585583     79.202775   0.49     9.99    14.99   \n",
       "\n",
       "             75%      max  \n",
       "Store      66.00     81.0  \n",
       "Brand   23965.00  90631.0  \n",
       "onHand     22.00   3676.0  \n",
       "Price      23.49  13999.9  "
      ]
     },
     "execution_count": 22,
     "metadata": {},
     "output_type": "execute_result"
    }
   ],
   "source": [
    "# Generate a summary of descriptive statistics for the 'EndInv' DataFrame.\n",
    "EndInv.describe().T"
   ]
  },
  {
   "cell_type": "code",
   "execution_count": 23,
   "id": "5ac25188",
   "metadata": {},
   "outputs": [
    {
     "data": {
      "text/plain": [
       "InventoryId       0\n",
       "Store             0\n",
       "City           1284\n",
       "Brand             0\n",
       "Description       0\n",
       "Size              0\n",
       "onHand            0\n",
       "Price             0\n",
       "endDate           0\n",
       "dtype: int64"
      ]
     },
     "execution_count": 23,
     "metadata": {},
     "output_type": "execute_result"
    }
   ],
   "source": [
    "# Check for missing (NaN) values in the 'EndInv' DataFrame and display the count of missing values for each column.\n",
    "EndInv.isnull().sum()"
   ]
  },
  {
   "cell_type": "code",
   "execution_count": 24,
   "id": "51486696",
   "metadata": {},
   "outputs": [],
   "source": [
    "# Create a new DataFrame by remving null values from the 'City'.\n",
    "EndInv['City'] =  EndInv['City'].fillna('Not Recorded')"
   ]
  },
  {
   "cell_type": "code",
   "execution_count": 25,
   "id": "0b8cdb9a",
   "metadata": {},
   "outputs": [
    {
     "data": {
      "text/html": [
       "<div>\n",
       "<style scoped>\n",
       "    .dataframe tbody tr th:only-of-type {\n",
       "        vertical-align: middle;\n",
       "    }\n",
       "\n",
       "    .dataframe tbody tr th {\n",
       "        vertical-align: top;\n",
       "    }\n",
       "\n",
       "    .dataframe thead th {\n",
       "        text-align: right;\n",
       "    }\n",
       "</style>\n",
       "<table border=\"1\" class=\"dataframe\">\n",
       "  <thead>\n",
       "    <tr style=\"text-align: right;\">\n",
       "      <th></th>\n",
       "      <th>Store</th>\n",
       "      <th>Brand</th>\n",
       "      <th>onHand</th>\n",
       "      <th>Price</th>\n",
       "    </tr>\n",
       "  </thead>\n",
       "  <tbody>\n",
       "    <tr>\n",
       "      <th>Store</th>\n",
       "      <td>1.000000</td>\n",
       "      <td>0.050018</td>\n",
       "      <td>0.054414</td>\n",
       "      <td>0.031032</td>\n",
       "    </tr>\n",
       "    <tr>\n",
       "      <th>Brand</th>\n",
       "      <td>0.050018</td>\n",
       "      <td>1.000000</td>\n",
       "      <td>-0.059422</td>\n",
       "      <td>-0.042231</td>\n",
       "    </tr>\n",
       "    <tr>\n",
       "      <th>onHand</th>\n",
       "      <td>0.054414</td>\n",
       "      <td>-0.059422</td>\n",
       "      <td>1.000000</td>\n",
       "      <td>-0.053668</td>\n",
       "    </tr>\n",
       "    <tr>\n",
       "      <th>Price</th>\n",
       "      <td>0.031032</td>\n",
       "      <td>-0.042231</td>\n",
       "      <td>-0.053668</td>\n",
       "      <td>1.000000</td>\n",
       "    </tr>\n",
       "  </tbody>\n",
       "</table>\n",
       "</div>"
      ],
      "text/plain": [
       "           Store     Brand    onHand     Price\n",
       "Store   1.000000  0.050018  0.054414  0.031032\n",
       "Brand   0.050018  1.000000 -0.059422 -0.042231\n",
       "onHand  0.054414 -0.059422  1.000000 -0.053668\n",
       "Price   0.031032 -0.042231 -0.053668  1.000000"
      ]
     },
     "execution_count": 25,
     "metadata": {},
     "output_type": "execute_result"
    }
   ],
   "source": [
    "# Compute the correlation matrix for the 'EndInv' DataFrame, which shows the pairwise correlations between numerical columns.\n",
    "EndInv.corr()"
   ]
  },
  {
   "cell_type": "code",
   "execution_count": 26,
   "id": "24baf403",
   "metadata": {},
   "outputs": [
    {
     "data": {
      "image/png": "[encoded data removed]",
      "text/plain": [
       "<Figure size 720x576 with 2 Axes>"
      ]
     },
     "metadata": {
      "needs_background": "light"
     },
     "output_type": "display_data"
    }
   ],
   "source": [
    "# Create a heatmap of the correlation matrix for 'EndInv' using Seaborn.\n",
    "plt.figure(figsize = (10,8))\n",
    "sns.heatmap(EndInv.corr(), annot = True)\n",
    "plt.show()"
   ]
  },
  {
   "cell_type": "markdown",
   "id": "04f2e1dd",
   "metadata": {},
   "source": [
    "### Purchases Analysis"
   ]
  },
  {
   "cell_type": "code",
   "execution_count": 27,
   "id": "997b19bc",
   "metadata": {},
   "outputs": [
    {
     "data": {
      "text/html": [
       "<div>\n",
       "<style scoped>\n",
       "    .dataframe tbody tr th:only-of-type {\n",
       "        vertical-align: middle;\n",
       "    }\n",
       "\n",
       "    .dataframe tbody tr th {\n",
       "        vertical-align: top;\n",
       "    }\n",
       "\n",
       "    .dataframe thead th {\n",
       "        text-align: right;\n",
       "    }\n",
       "</style>\n",
       "<table border=\"1\" class=\"dataframe\">\n",
       "  <thead>\n",
       "    <tr style=\"text-align: right;\">\n",
       "      <th></th>\n",
       "      <th>VendorNumber</th>\n",
       "      <th>VendorName</th>\n",
       "      <th>InvoiceDate</th>\n",
       "      <th>PONumber</th>\n",
       "      <th>PODate</th>\n",
       "      <th>PayDate</th>\n",
       "      <th>Quantity</th>\n",
       "      <th>Dollars</th>\n",
       "      <th>Freight</th>\n",
       "      <th>Approval</th>\n",
       "    </tr>\n",
       "  </thead>\n",
       "  <tbody>\n",
       "    <tr>\n",
       "      <th>0</th>\n",
       "      <td>105</td>\n",
       "      <td>ALTAMAR BRANDS LLC</td>\n",
       "      <td>2016-01-04</td>\n",
       "      <td>8124</td>\n",
       "      <td>2015-12-21</td>\n",
       "      <td>2016-02-16</td>\n",
       "      <td>6</td>\n",
       "      <td>214.26</td>\n",
       "      <td>3.47</td>\n",
       "      <td>None</td>\n",
       "    </tr>\n",
       "    <tr>\n",
       "      <th>1</th>\n",
       "      <td>4466</td>\n",
       "      <td>AMERICAN VINTAGE BEVERAGE</td>\n",
       "      <td>2016-01-07</td>\n",
       "      <td>8137</td>\n",
       "      <td>2015-12-22</td>\n",
       "      <td>2016-02-21</td>\n",
       "      <td>15</td>\n",
       "      <td>140.55</td>\n",
       "      <td>8.57</td>\n",
       "      <td>None</td>\n",
       "    </tr>\n",
       "    <tr>\n",
       "      <th>2</th>\n",
       "      <td>388</td>\n",
       "      <td>ATLANTIC IMPORTING COMPANY</td>\n",
       "      <td>2016-01-09</td>\n",
       "      <td>8169</td>\n",
       "      <td>2015-12-24</td>\n",
       "      <td>2016-02-16</td>\n",
       "      <td>5</td>\n",
       "      <td>106.60</td>\n",
       "      <td>4.61</td>\n",
       "      <td>None</td>\n",
       "    </tr>\n",
       "    <tr>\n",
       "      <th>3</th>\n",
       "      <td>480</td>\n",
       "      <td>BACARDI USA INC</td>\n",
       "      <td>2016-01-12</td>\n",
       "      <td>8106</td>\n",
       "      <td>2015-12-20</td>\n",
       "      <td>2016-02-05</td>\n",
       "      <td>10100</td>\n",
       "      <td>137483.78</td>\n",
       "      <td>2935.20</td>\n",
       "      <td>None</td>\n",
       "    </tr>\n",
       "    <tr>\n",
       "      <th>4</th>\n",
       "      <td>516</td>\n",
       "      <td>BANFI PRODUCTS CORP</td>\n",
       "      <td>2016-01-07</td>\n",
       "      <td>8170</td>\n",
       "      <td>2015-12-24</td>\n",
       "      <td>2016-02-12</td>\n",
       "      <td>1935</td>\n",
       "      <td>15527.25</td>\n",
       "      <td>429.20</td>\n",
       "      <td>None</td>\n",
       "    </tr>\n",
       "  </tbody>\n",
       "</table>\n",
       "</div>"
      ],
      "text/plain": [
       "   VendorNumber                   VendorName InvoiceDate  PONumber  \\\n",
       "0           105  ALTAMAR BRANDS LLC           2016-01-04      8124   \n",
       "1          4466  AMERICAN VINTAGE BEVERAGE    2016-01-07      8137   \n",
       "2           388  ATLANTIC IMPORTING COMPANY   2016-01-09      8169   \n",
       "3           480  BACARDI USA INC              2016-01-12      8106   \n",
       "4           516  BANFI PRODUCTS CORP          2016-01-07      8170   \n",
       "\n",
       "       PODate     PayDate  Quantity    Dollars  Freight Approval  \n",
       "0  2015-12-21  2016-02-16         6     214.26     3.47     None  \n",
       "1  2015-12-22  2016-02-21        15     140.55     8.57     None  \n",
       "2  2015-12-24  2016-02-16         5     106.60     4.61     None  \n",
       "3  2015-12-20  2016-02-05     10100  137483.78  2935.20     None  \n",
       "4  2015-12-24  2016-02-12      1935   15527.25   429.20     None  "
      ]
     },
     "execution_count": 27,
     "metadata": {},
     "output_type": "execute_result"
    }
   ],
   "source": [
    "# Display the first few rows of the DataFrame to inspect the changes\n",
    "Purchases.head()"
   ]
  },
  {
   "cell_type": "code",
   "execution_count": 28,
   "id": "eecb1183",
   "metadata": {},
   "outputs": [],
   "source": [
    "# Create a new column 'Total Amount' by summing 'Dollars' and 'Freight' columns\n",
    "Purchases['Total'] = Purchases['Dollars'] + Purchases['Freight']"
   ]
  },
  {
   "cell_type": "code",
   "execution_count": 29,
   "id": "ef549c2c",
   "metadata": {},
   "outputs": [
    {
     "data": {
      "text/plain": [
       "(5543, 11)"
      ]
     },
     "execution_count": 29,
     "metadata": {},
     "output_type": "execute_result"
    }
   ],
   "source": [
    "# Retrieve the shape of the DataFrame, showing the number of rows and columns\n",
    "Purchases.shape"
   ]
  },
  {
   "cell_type": "code",
   "execution_count": 30,
   "id": "a878d845",
   "metadata": {},
   "outputs": [
    {
     "name": "stdout",
     "output_type": "stream",
     "text": [
      "<class 'pandas.core.frame.DataFrame'>\n",
      "RangeIndex: 5543 entries, 0 to 5542\n",
      "Data columns (total 11 columns):\n",
      " #   Column        Non-Null Count  Dtype  \n",
      "---  ------        --------------  -----  \n",
      " 0   VendorNumber  5543 non-null   int64  \n",
      " 1   VendorName    5543 non-null   object \n",
      " 2   InvoiceDate   5543 non-null   object \n",
      " 3   PONumber      5543 non-null   int64  \n",
      " 4   PODate        5543 non-null   object \n",
      " 5   PayDate       5543 non-null   object \n",
      " 6   Quantity      5543 non-null   int64  \n",
      " 7   Dollars       5543 non-null   float64\n",
      " 8   Freight       5543 non-null   float64\n",
      " 9   Approval      5543 non-null   object \n",
      " 10  Total         5543 non-null   float64\n",
      "dtypes: float64(3), int64(3), object(5)\n",
      "memory usage: 476.5+ KB\n"
     ]
    }
   ],
   "source": [
    "# Print information about the DataFrame including data types and non-null counts\n",
    "Purchases.info()"
   ]
  },
  {
   "cell_type": "code",
   "execution_count": 31,
   "id": "59a36412",
   "metadata": {},
   "outputs": [
    {
     "data": {
      "text/html": [
       "<div>\n",
       "<style scoped>\n",
       "    .dataframe tbody tr th:only-of-type {\n",
       "        vertical-align: middle;\n",
       "    }\n",
       "\n",
       "    .dataframe tbody tr th {\n",
       "        vertical-align: top;\n",
       "    }\n",
       "\n",
       "    .dataframe thead th {\n",
       "        text-align: right;\n",
       "    }\n",
       "</style>\n",
       "<table border=\"1\" class=\"dataframe\">\n",
       "  <thead>\n",
       "    <tr style=\"text-align: right;\">\n",
       "      <th></th>\n",
       "      <th>count</th>\n",
       "      <th>mean</th>\n",
       "      <th>std</th>\n",
       "      <th>min</th>\n",
       "      <th>25%</th>\n",
       "      <th>50%</th>\n",
       "      <th>75%</th>\n",
       "      <th>max</th>\n",
       "    </tr>\n",
       "  </thead>\n",
       "  <tbody>\n",
       "    <tr>\n",
       "      <th>VendorNumber</th>\n",
       "      <td>5543.0</td>\n",
       "      <td>20662.752120</td>\n",
       "      <td>34582.158410</td>\n",
       "      <td>2.00</td>\n",
       "      <td>3089.00</td>\n",
       "      <td>7240.00</td>\n",
       "      <td>10754.000</td>\n",
       "      <td>201359.00</td>\n",
       "    </tr>\n",
       "    <tr>\n",
       "      <th>PONumber</th>\n",
       "      <td>5543.0</td>\n",
       "      <td>10889.419087</td>\n",
       "      <td>1600.859969</td>\n",
       "      <td>8106.00</td>\n",
       "      <td>9503.50</td>\n",
       "      <td>10890.00</td>\n",
       "      <td>12275.500</td>\n",
       "      <td>13661.00</td>\n",
       "    </tr>\n",
       "    <tr>\n",
       "      <th>Quantity</th>\n",
       "      <td>5543.0</td>\n",
       "      <td>6058.880931</td>\n",
       "      <td>14453.338164</td>\n",
       "      <td>1.00</td>\n",
       "      <td>83.00</td>\n",
       "      <td>423.00</td>\n",
       "      <td>5100.500</td>\n",
       "      <td>141660.00</td>\n",
       "    </tr>\n",
       "    <tr>\n",
       "      <th>Dollars</th>\n",
       "      <td>5543.0</td>\n",
       "      <td>58073.383642</td>\n",
       "      <td>140234.031377</td>\n",
       "      <td>4.14</td>\n",
       "      <td>967.81</td>\n",
       "      <td>4765.45</td>\n",
       "      <td>44587.175</td>\n",
       "      <td>1660435.88</td>\n",
       "    </tr>\n",
       "    <tr>\n",
       "      <th>Freight</th>\n",
       "      <td>5543.0</td>\n",
       "      <td>295.954301</td>\n",
       "      <td>713.585093</td>\n",
       "      <td>0.02</td>\n",
       "      <td>5.02</td>\n",
       "      <td>24.73</td>\n",
       "      <td>229.660</td>\n",
       "      <td>8468.22</td>\n",
       "    </tr>\n",
       "    <tr>\n",
       "      <th>Total</th>\n",
       "      <td>5543.0</td>\n",
       "      <td>58369.337943</td>\n",
       "      <td>140937.066515</td>\n",
       "      <td>4.16</td>\n",
       "      <td>972.41</td>\n",
       "      <td>4790.71</td>\n",
       "      <td>44794.505</td>\n",
       "      <td>1668904.10</td>\n",
       "    </tr>\n",
       "  </tbody>\n",
       "</table>\n",
       "</div>"
      ],
      "text/plain": [
       "               count          mean            std      min      25%       50%  \\\n",
       "VendorNumber  5543.0  20662.752120   34582.158410     2.00  3089.00   7240.00   \n",
       "PONumber      5543.0  10889.419087    1600.859969  8106.00  9503.50  10890.00   \n",
       "Quantity      5543.0   6058.880931   14453.338164     1.00    83.00    423.00   \n",
       "Dollars       5543.0  58073.383642  140234.031377     4.14   967.81   4765.45   \n",
       "Freight       5543.0    295.954301     713.585093     0.02     5.02     24.73   \n",
       "Total         5543.0  58369.337943  140937.066515     4.16   972.41   4790.71   \n",
       "\n",
       "                    75%         max  \n",
       "VendorNumber  10754.000   201359.00  \n",
       "PONumber      12275.500    13661.00  \n",
       "Quantity       5100.500   141660.00  \n",
       "Dollars       44587.175  1660435.88  \n",
       "Freight         229.660     8468.22  \n",
       "Total         44794.505  1668904.10  "
      ]
     },
     "execution_count": 31,
     "metadata": {},
     "output_type": "execute_result"
    }
   ],
   "source": [
    "# Generate summary statistics (mean, std, min, max, etc.) for each numerical column\n",
    "Purchases.describe().T"
   ]
  },
  {
   "cell_type": "code",
   "execution_count": 32,
   "id": "cda01a5b",
   "metadata": {},
   "outputs": [
    {
     "data": {
      "text/plain": [
       "VendorNumber    0\n",
       "VendorName      0\n",
       "InvoiceDate     0\n",
       "PONumber        0\n",
       "PODate          0\n",
       "PayDate         0\n",
       "Quantity        0\n",
       "Dollars         0\n",
       "Freight         0\n",
       "Approval        0\n",
       "Total           0\n",
       "dtype: int64"
      ]
     },
     "execution_count": 32,
     "metadata": {},
     "output_type": "execute_result"
    }
   ],
   "source": [
    "# Check for missing values in each column and sum them up\n",
    "Purchases.isnull().sum()"
   ]
  },
  {
   "cell_type": "code",
   "execution_count": 33,
   "id": "fd5148e5",
   "metadata": {},
   "outputs": [
    {
     "data": {
      "text/html": [
       "<div>\n",
       "<style scoped>\n",
       "    .dataframe tbody tr th:only-of-type {\n",
       "        vertical-align: middle;\n",
       "    }\n",
       "\n",
       "    .dataframe tbody tr th {\n",
       "        vertical-align: top;\n",
       "    }\n",
       "\n",
       "    .dataframe thead th {\n",
       "        text-align: right;\n",
       "    }\n",
       "</style>\n",
       "<table border=\"1\" class=\"dataframe\">\n",
       "  <thead>\n",
       "    <tr style=\"text-align: right;\">\n",
       "      <th></th>\n",
       "      <th>VendorNumber</th>\n",
       "      <th>PONumber</th>\n",
       "      <th>Quantity</th>\n",
       "      <th>Dollars</th>\n",
       "      <th>Freight</th>\n",
       "      <th>Total</th>\n",
       "    </tr>\n",
       "  </thead>\n",
       "  <tbody>\n",
       "    <tr>\n",
       "      <th>VendorNumber</th>\n",
       "      <td>1.000000</td>\n",
       "      <td>0.014151</td>\n",
       "      <td>-0.168329</td>\n",
       "      <td>-0.163386</td>\n",
       "      <td>-0.163493</td>\n",
       "      <td>-0.163398</td>\n",
       "    </tr>\n",
       "    <tr>\n",
       "      <th>PONumber</th>\n",
       "      <td>0.014151</td>\n",
       "      <td>1.000000</td>\n",
       "      <td>0.049230</td>\n",
       "      <td>0.058917</td>\n",
       "      <td>0.043617</td>\n",
       "      <td>0.058844</td>\n",
       "    </tr>\n",
       "    <tr>\n",
       "      <th>Quantity</th>\n",
       "      <td>-0.168329</td>\n",
       "      <td>0.049230</td>\n",
       "      <td>1.000000</td>\n",
       "      <td>0.963831</td>\n",
       "      <td>0.946550</td>\n",
       "      <td>0.963815</td>\n",
       "    </tr>\n",
       "    <tr>\n",
       "      <th>Dollars</th>\n",
       "      <td>-0.163386</td>\n",
       "      <td>0.058917</td>\n",
       "      <td>0.963831</td>\n",
       "      <td>1.000000</td>\n",
       "      <td>0.985141</td>\n",
       "      <td>1.000000</td>\n",
       "    </tr>\n",
       "    <tr>\n",
       "      <th>Freight</th>\n",
       "      <td>-0.163493</td>\n",
       "      <td>0.043617</td>\n",
       "      <td>0.946550</td>\n",
       "      <td>0.985141</td>\n",
       "      <td>1.000000</td>\n",
       "      <td>0.985290</td>\n",
       "    </tr>\n",
       "    <tr>\n",
       "      <th>Total</th>\n",
       "      <td>-0.163398</td>\n",
       "      <td>0.058844</td>\n",
       "      <td>0.963815</td>\n",
       "      <td>1.000000</td>\n",
       "      <td>0.985290</td>\n",
       "      <td>1.000000</td>\n",
       "    </tr>\n",
       "  </tbody>\n",
       "</table>\n",
       "</div>"
      ],
      "text/plain": [
       "              VendorNumber  PONumber  Quantity   Dollars   Freight     Total\n",
       "VendorNumber      1.000000  0.014151 -0.168329 -0.163386 -0.163493 -0.163398\n",
       "PONumber          0.014151  1.000000  0.049230  0.058917  0.043617  0.058844\n",
       "Quantity         -0.168329  0.049230  1.000000  0.963831  0.946550  0.963815\n",
       "Dollars          -0.163386  0.058917  0.963831  1.000000  0.985141  1.000000\n",
       "Freight          -0.163493  0.043617  0.946550  0.985141  1.000000  0.985290\n",
       "Total            -0.163398  0.058844  0.963815  1.000000  0.985290  1.000000"
      ]
     },
     "execution_count": 33,
     "metadata": {},
     "output_type": "execute_result"
    }
   ],
   "source": [
    "# Calculate and display the correlation matrix for the columns in the 'Purchases' DataFrame.\n",
    "Purchases.corr()"
   ]
  },
  {
   "cell_type": "code",
   "execution_count": 34,
   "id": "ebc941ca",
   "metadata": {},
   "outputs": [
    {
     "data": {
      "image/png": "[encoded data removed]",
      "text/plain": [
       "<Figure size 720x576 with 2 Axes>"
      ]
     },
     "metadata": {
      "needs_background": "light"
     },
     "output_type": "display_data"
    }
   ],
   "source": [
    "# Create a heatmap to visualize the correlations between different columns in the 'Purchases' DataFrame.\n",
    "plt.figure(figsize = (10,8))\n",
    "sns.heatmap(Purchases.corr(),cmap = 'magma' ,annot = True)\n",
    "plt.show()"
   ]
  },
  {
   "cell_type": "markdown",
   "id": "5a800e71",
   "metadata": {},
   "source": [
    "### Final Purchases Analysis"
   ]
  },
  {
   "cell_type": "code",
   "execution_count": 35,
   "id": "7d76b97a",
   "metadata": {},
   "outputs": [
    {
     "data": {
      "text/html": [
       "<div>\n",
       "<style scoped>\n",
       "    .dataframe tbody tr th:only-of-type {\n",
       "        vertical-align: middle;\n",
       "    }\n",
       "\n",
       "    .dataframe tbody tr th {\n",
       "        vertical-align: top;\n",
       "    }\n",
       "\n",
       "    .dataframe thead th {\n",
       "        text-align: right;\n",
       "    }\n",
       "</style>\n",
       "<table border=\"1\" class=\"dataframe\">\n",
       "  <thead>\n",
       "    <tr style=\"text-align: right;\">\n",
       "      <th></th>\n",
       "      <th>InventoryId</th>\n",
       "      <th>Store</th>\n",
       "      <th>Brand</th>\n",
       "      <th>Description</th>\n",
       "      <th>Size</th>\n",
       "      <th>VendorNumber</th>\n",
       "      <th>VendorName</th>\n",
       "      <th>PONumber</th>\n",
       "      <th>PODate</th>\n",
       "      <th>ReceivingDate</th>\n",
       "      <th>InvoiceDate</th>\n",
       "      <th>PayDate</th>\n",
       "      <th>PurchasePrice</th>\n",
       "      <th>Quantity</th>\n",
       "      <th>Dollars</th>\n",
       "      <th>Classification</th>\n",
       "    </tr>\n",
       "  </thead>\n",
       "  <tbody>\n",
       "    <tr>\n",
       "      <th>0</th>\n",
       "      <td>69_MOUNTMEND_8412</td>\n",
       "      <td>69</td>\n",
       "      <td>8412</td>\n",
       "      <td>Tequila Ocho Plata Fresno</td>\n",
       "      <td>750mL</td>\n",
       "      <td>105</td>\n",
       "      <td>ALTAMAR BRANDS LLC</td>\n",
       "      <td>8124</td>\n",
       "      <td>2015-12-21</td>\n",
       "      <td>2016-01-02</td>\n",
       "      <td>2016-01-04</td>\n",
       "      <td>2016-02-16</td>\n",
       "      <td>35.71</td>\n",
       "      <td>6</td>\n",
       "      <td>214.26</td>\n",
       "      <td>1</td>\n",
       "    </tr>\n",
       "    <tr>\n",
       "      <th>1</th>\n",
       "      <td>30_CULCHETH_5255</td>\n",
       "      <td>30</td>\n",
       "      <td>5255</td>\n",
       "      <td>TGI Fridays Ultimte Mudslide</td>\n",
       "      <td>1.75L</td>\n",
       "      <td>4466</td>\n",
       "      <td>AMERICAN VINTAGE BEVERAGE</td>\n",
       "      <td>8137</td>\n",
       "      <td>2015-12-22</td>\n",
       "      <td>2016-01-01</td>\n",
       "      <td>2016-01-07</td>\n",
       "      <td>2016-02-21</td>\n",
       "      <td>9.35</td>\n",
       "      <td>4</td>\n",
       "      <td>37.40</td>\n",
       "      <td>1</td>\n",
       "    </tr>\n",
       "    <tr>\n",
       "      <th>2</th>\n",
       "      <td>34_PITMERDEN_5215</td>\n",
       "      <td>34</td>\n",
       "      <td>5215</td>\n",
       "      <td>TGI Fridays Long Island Iced</td>\n",
       "      <td>1.75L</td>\n",
       "      <td>4466</td>\n",
       "      <td>AMERICAN VINTAGE BEVERAGE</td>\n",
       "      <td>8137</td>\n",
       "      <td>2015-12-22</td>\n",
       "      <td>2016-01-02</td>\n",
       "      <td>2016-01-07</td>\n",
       "      <td>2016-02-21</td>\n",
       "      <td>9.41</td>\n",
       "      <td>5</td>\n",
       "      <td>47.05</td>\n",
       "      <td>1</td>\n",
       "    </tr>\n",
       "    <tr>\n",
       "      <th>3</th>\n",
       "      <td>1_HARDERSFIELD_5255</td>\n",
       "      <td>1</td>\n",
       "      <td>5255</td>\n",
       "      <td>TGI Fridays Ultimte Mudslide</td>\n",
       "      <td>1.75L</td>\n",
       "      <td>4466</td>\n",
       "      <td>AMERICAN VINTAGE BEVERAGE</td>\n",
       "      <td>8137</td>\n",
       "      <td>2015-12-22</td>\n",
       "      <td>2016-01-01</td>\n",
       "      <td>2016-01-07</td>\n",
       "      <td>2016-02-21</td>\n",
       "      <td>9.35</td>\n",
       "      <td>6</td>\n",
       "      <td>56.10</td>\n",
       "      <td>1</td>\n",
       "    </tr>\n",
       "    <tr>\n",
       "      <th>4</th>\n",
       "      <td>76_DONCASTER_2034</td>\n",
       "      <td>76</td>\n",
       "      <td>2034</td>\n",
       "      <td>Glendalough Double Barrel</td>\n",
       "      <td>750mL</td>\n",
       "      <td>388</td>\n",
       "      <td>ATLANTIC IMPORTING COMPANY</td>\n",
       "      <td>8169</td>\n",
       "      <td>2015-12-24</td>\n",
       "      <td>2016-01-02</td>\n",
       "      <td>2016-01-09</td>\n",
       "      <td>2016-02-16</td>\n",
       "      <td>21.32</td>\n",
       "      <td>5</td>\n",
       "      <td>106.60</td>\n",
       "      <td>1</td>\n",
       "    </tr>\n",
       "  </tbody>\n",
       "</table>\n",
       "</div>"
      ],
      "text/plain": [
       "           InventoryId  Store  Brand                   Description   Size  \\\n",
       "0    69_MOUNTMEND_8412     69   8412     Tequila Ocho Plata Fresno  750mL   \n",
       "1     30_CULCHETH_5255     30   5255  TGI Fridays Ultimte Mudslide  1.75L   \n",
       "2    34_PITMERDEN_5215     34   5215  TGI Fridays Long Island Iced  1.75L   \n",
       "3  1_HARDERSFIELD_5255      1   5255  TGI Fridays Ultimte Mudslide  1.75L   \n",
       "4    76_DONCASTER_2034     76   2034     Glendalough Double Barrel  750mL   \n",
       "\n",
       "   VendorNumber                   VendorName  PONumber      PODate  \\\n",
       "0           105  ALTAMAR BRANDS LLC               8124  2015-12-21   \n",
       "1          4466  AMERICAN VINTAGE BEVERAGE        8137  2015-12-22   \n",
       "2          4466  AMERICAN VINTAGE BEVERAGE        8137  2015-12-22   \n",
       "3          4466  AMERICAN VINTAGE BEVERAGE        8137  2015-12-22   \n",
       "4           388  ATLANTIC IMPORTING COMPANY       8169  2015-12-24   \n",
       "\n",
       "  ReceivingDate InvoiceDate     PayDate  PurchasePrice  Quantity  Dollars  \\\n",
       "0    2016-01-02  2016-01-04  2016-02-16          35.71         6   214.26   \n",
       "1    2016-01-01  2016-01-07  2016-02-21           9.35         4    37.40   \n",
       "2    2016-01-02  2016-01-07  2016-02-21           9.41         5    47.05   \n",
       "3    2016-01-01  2016-01-07  2016-02-21           9.35         6    56.10   \n",
       "4    2016-01-02  2016-01-09  2016-02-16          21.32         5   106.60   \n",
       "\n",
       "   Classification  \n",
       "0               1  \n",
       "1               1  \n",
       "2               1  \n",
       "3               1  \n",
       "4               1  "
      ]
     },
     "execution_count": 35,
     "metadata": {},
     "output_type": "execute_result"
    }
   ],
   "source": [
    "# Display the first few rows of the DataFrame \"PurchaseFinal\"\n",
    "PurchaseFinal.head()"
   ]
  },
  {
   "cell_type": "code",
   "execution_count": 36,
   "id": "dbcda7ce",
   "metadata": {},
   "outputs": [
    {
     "data": {
      "text/plain": [
       "(2372474, 16)"
      ]
     },
     "execution_count": 36,
     "metadata": {},
     "output_type": "execute_result"
    }
   ],
   "source": [
    "# Get the shape number of rows and columns of the DataFrame\n",
    "PurchaseFinal.shape"
   ]
  },
  {
   "cell_type": "code",
   "execution_count": 37,
   "id": "3c6c9e80",
   "metadata": {},
   "outputs": [
    {
     "name": "stdout",
     "output_type": "stream",
     "text": [
      "<class 'pandas.core.frame.DataFrame'>\n",
      "RangeIndex: 2372474 entries, 0 to 2372473\n",
      "Data columns (total 16 columns):\n",
      " #   Column          Dtype  \n",
      "---  ------          -----  \n",
      " 0   InventoryId     object \n",
      " 1   Store           int64  \n",
      " 2   Brand           int64  \n",
      " 3   Description     object \n",
      " 4   Size            object \n",
      " 5   VendorNumber    int64  \n",
      " 6   VendorName      object \n",
      " 7   PONumber        int64  \n",
      " 8   PODate          object \n",
      " 9   ReceivingDate   object \n",
      " 10  InvoiceDate     object \n",
      " 11  PayDate         object \n",
      " 12  PurchasePrice   float64\n",
      " 13  Quantity        int64  \n",
      " 14  Dollars         float64\n",
      " 15  Classification  int64  \n",
      "dtypes: float64(2), int64(6), object(8)\n",
      "memory usage: 289.6+ MB\n"
     ]
    }
   ],
   "source": [
    "# Display information about the DataFrame, including data types and non-null values\n",
    "PurchaseFinal.info()"
   ]
  },
  {
   "cell_type": "code",
   "execution_count": 38,
   "id": "c38732bf",
   "metadata": {},
   "outputs": [
    {
     "data": {
      "text/html": [
       "<div>\n",
       "<style scoped>\n",
       "    .dataframe tbody tr th:only-of-type {\n",
       "        vertical-align: middle;\n",
       "    }\n",
       "\n",
       "    .dataframe tbody tr th {\n",
       "        vertical-align: top;\n",
       "    }\n",
       "\n",
       "    .dataframe thead th {\n",
       "        text-align: right;\n",
       "    }\n",
       "</style>\n",
       "<table border=\"1\" class=\"dataframe\">\n",
       "  <thead>\n",
       "    <tr style=\"text-align: right;\">\n",
       "      <th></th>\n",
       "      <th>count</th>\n",
       "      <th>mean</th>\n",
       "      <th>std</th>\n",
       "      <th>min</th>\n",
       "      <th>25%</th>\n",
       "      <th>50%</th>\n",
       "      <th>75%</th>\n",
       "      <th>max</th>\n",
       "    </tr>\n",
       "  </thead>\n",
       "  <tbody>\n",
       "    <tr>\n",
       "      <th>Store</th>\n",
       "      <td>2372474.0</td>\n",
       "      <td>44.651328</td>\n",
       "      <td>23.512448</td>\n",
       "      <td>1.0</td>\n",
       "      <td>25.00</td>\n",
       "      <td>48.00</td>\n",
       "      <td>67.00</td>\n",
       "      <td>81.00</td>\n",
       "    </tr>\n",
       "    <tr>\n",
       "      <th>Brand</th>\n",
       "      <td>2372474.0</td>\n",
       "      <td>12418.641110</td>\n",
       "      <td>12557.278331</td>\n",
       "      <td>58.0</td>\n",
       "      <td>3639.00</td>\n",
       "      <td>6523.00</td>\n",
       "      <td>18877.00</td>\n",
       "      <td>90631.00</td>\n",
       "    </tr>\n",
       "    <tr>\n",
       "      <th>VendorNumber</th>\n",
       "      <td>2372474.0</td>\n",
       "      <td>6886.435533</td>\n",
       "      <td>8066.693891</td>\n",
       "      <td>2.0</td>\n",
       "      <td>3252.00</td>\n",
       "      <td>4425.00</td>\n",
       "      <td>9552.00</td>\n",
       "      <td>201359.00</td>\n",
       "    </tr>\n",
       "    <tr>\n",
       "      <th>PONumber</th>\n",
       "      <td>2372474.0</td>\n",
       "      <td>11040.936647</td>\n",
       "      <td>1565.340220</td>\n",
       "      <td>8106.0</td>\n",
       "      <td>9761.00</td>\n",
       "      <td>11103.00</td>\n",
       "      <td>12397.00</td>\n",
       "      <td>13661.00</td>\n",
       "    </tr>\n",
       "    <tr>\n",
       "      <th>PurchasePrice</th>\n",
       "      <td>2372474.0</td>\n",
       "      <td>12.050050</td>\n",
       "      <td>17.945104</td>\n",
       "      <td>0.0</td>\n",
       "      <td>6.12</td>\n",
       "      <td>9.22</td>\n",
       "      <td>14.49</td>\n",
       "      <td>5681.81</td>\n",
       "    </tr>\n",
       "    <tr>\n",
       "      <th>Quantity</th>\n",
       "      <td>2372474.0</td>\n",
       "      <td>14.155846</td>\n",
       "      <td>23.446162</td>\n",
       "      <td>1.0</td>\n",
       "      <td>6.00</td>\n",
       "      <td>10.00</td>\n",
       "      <td>12.00</td>\n",
       "      <td>3816.00</td>\n",
       "    </tr>\n",
       "    <tr>\n",
       "      <th>Dollars</th>\n",
       "      <td>2372474.0</td>\n",
       "      <td>135.681472</td>\n",
       "      <td>281.664941</td>\n",
       "      <td>0.0</td>\n",
       "      <td>49.26</td>\n",
       "      <td>83.93</td>\n",
       "      <td>140.52</td>\n",
       "      <td>50175.70</td>\n",
       "    </tr>\n",
       "    <tr>\n",
       "      <th>Classification</th>\n",
       "      <td>2372474.0</td>\n",
       "      <td>1.443520</td>\n",
       "      <td>0.496800</td>\n",
       "      <td>1.0</td>\n",
       "      <td>1.00</td>\n",
       "      <td>1.00</td>\n",
       "      <td>2.00</td>\n",
       "      <td>2.00</td>\n",
       "    </tr>\n",
       "  </tbody>\n",
       "</table>\n",
       "</div>"
      ],
      "text/plain": [
       "                    count          mean           std     min      25%  \\\n",
       "Store           2372474.0     44.651328     23.512448     1.0    25.00   \n",
       "Brand           2372474.0  12418.641110  12557.278331    58.0  3639.00   \n",
       "VendorNumber    2372474.0   6886.435533   8066.693891     2.0  3252.00   \n",
       "PONumber        2372474.0  11040.936647   1565.340220  8106.0  9761.00   \n",
       "PurchasePrice   2372474.0     12.050050     17.945104     0.0     6.12   \n",
       "Quantity        2372474.0     14.155846     23.446162     1.0     6.00   \n",
       "Dollars         2372474.0    135.681472    281.664941     0.0    49.26   \n",
       "Classification  2372474.0      1.443520      0.496800     1.0     1.00   \n",
       "\n",
       "                     50%       75%        max  \n",
       "Store              48.00     67.00      81.00  \n",
       "Brand            6523.00  18877.00   90631.00  \n",
       "VendorNumber     4425.00   9552.00  201359.00  \n",
       "PONumber        11103.00  12397.00   13661.00  \n",
       "PurchasePrice       9.22     14.49    5681.81  \n",
       "Quantity           10.00     12.00    3816.00  \n",
       "Dollars            83.93    140.52   50175.70  \n",
       "Classification      1.00      2.00       2.00  "
      ]
     },
     "execution_count": 38,
     "metadata": {},
     "output_type": "execute_result"
    }
   ],
   "source": [
    "# Display summary statistics (mean, min, max, etc.) for the columns in the DataFrame\n",
    "PurchaseFinal.describe().T"
   ]
  },
  {
   "cell_type": "code",
   "execution_count": 39,
   "id": "8b0c7d7f",
   "metadata": {},
   "outputs": [
    {
     "data": {
      "text/plain": [
       "InventoryId       0\n",
       "Store             0\n",
       "Brand             0\n",
       "Description       0\n",
       "Size              3\n",
       "VendorNumber      0\n",
       "VendorName        0\n",
       "PONumber          0\n",
       "PODate            0\n",
       "ReceivingDate     0\n",
       "InvoiceDate       0\n",
       "PayDate           0\n",
       "PurchasePrice     0\n",
       "Quantity          0\n",
       "Dollars           0\n",
       "Classification    0\n",
       "dtype: int64"
      ]
     },
     "execution_count": 39,
     "metadata": {},
     "output_type": "execute_result"
    }
   ],
   "source": [
    "# Count the number of missing null values in each column of the DataFrame\n",
    "PurchaseFinal.isnull().sum()"
   ]
  },
  {
   "cell_type": "code",
   "execution_count": 40,
   "id": "b7cebb4d",
   "metadata": {},
   "outputs": [
    {
     "data": {
      "text/html": [
       "<div>\n",
       "<style scoped>\n",
       "    .dataframe tbody tr th:only-of-type {\n",
       "        vertical-align: middle;\n",
       "    }\n",
       "\n",
       "    .dataframe tbody tr th {\n",
       "        vertical-align: top;\n",
       "    }\n",
       "\n",
       "    .dataframe thead th {\n",
       "        text-align: right;\n",
       "    }\n",
       "</style>\n",
       "<table border=\"1\" class=\"dataframe\">\n",
       "  <thead>\n",
       "    <tr style=\"text-align: right;\">\n",
       "      <th></th>\n",
       "      <th>InventoryId</th>\n",
       "      <th>Store</th>\n",
       "      <th>Brand</th>\n",
       "      <th>Description</th>\n",
       "      <th>Size</th>\n",
       "      <th>VendorNumber</th>\n",
       "      <th>VendorName</th>\n",
       "      <th>PONumber</th>\n",
       "      <th>PODate</th>\n",
       "      <th>ReceivingDate</th>\n",
       "      <th>InvoiceDate</th>\n",
       "      <th>PayDate</th>\n",
       "      <th>PurchasePrice</th>\n",
       "      <th>Quantity</th>\n",
       "      <th>Dollars</th>\n",
       "      <th>Classification</th>\n",
       "    </tr>\n",
       "  </thead>\n",
       "  <tbody>\n",
       "    <tr>\n",
       "      <th>1109668</th>\n",
       "      <td>34_PITMERDEN_3121</td>\n",
       "      <td>34</td>\n",
       "      <td>3121</td>\n",
       "      <td>Pinnacle Rainbow Sherbet</td>\n",
       "      <td>NaN</td>\n",
       "      <td>12546</td>\n",
       "      <td>JIM BEAM BRANDS COMPANY</td>\n",
       "      <td>10938</td>\n",
       "      <td>2016-06-27</td>\n",
       "      <td>2016-07-04</td>\n",
       "      <td>2016-07-13</td>\n",
       "      <td>2016-08-16</td>\n",
       "      <td>6.93</td>\n",
       "      <td>7</td>\n",
       "      <td>48.51</td>\n",
       "      <td>1</td>\n",
       "    </tr>\n",
       "    <tr>\n",
       "      <th>1112426</th>\n",
       "      <td>34_PITMERDEN_5678</td>\n",
       "      <td>34</td>\n",
       "      <td>5678</td>\n",
       "      <td>Skinnygirl Pina Colada</td>\n",
       "      <td>NaN</td>\n",
       "      <td>12546</td>\n",
       "      <td>JIM BEAM BRANDS COMPANY</td>\n",
       "      <td>10938</td>\n",
       "      <td>2016-06-27</td>\n",
       "      <td>2016-07-09</td>\n",
       "      <td>2016-07-13</td>\n",
       "      <td>2016-08-16</td>\n",
       "      <td>6.93</td>\n",
       "      <td>6</td>\n",
       "      <td>41.58</td>\n",
       "      <td>1</td>\n",
       "    </tr>\n",
       "    <tr>\n",
       "      <th>1116302</th>\n",
       "      <td>39_EASTHALLOW_15365</td>\n",
       "      <td>39</td>\n",
       "      <td>15365</td>\n",
       "      <td>Alabaster 07 Tinta de Toro</td>\n",
       "      <td>NaN</td>\n",
       "      <td>9552</td>\n",
       "      <td>M S WALKER INC</td>\n",
       "      <td>10972</td>\n",
       "      <td>2016-06-29</td>\n",
       "      <td>2016-07-07</td>\n",
       "      <td>2016-07-13</td>\n",
       "      <td>2016-08-21</td>\n",
       "      <td>91.83</td>\n",
       "      <td>1</td>\n",
       "      <td>91.83</td>\n",
       "      <td>2</td>\n",
       "    </tr>\n",
       "  </tbody>\n",
       "</table>\n",
       "</div>"
      ],
      "text/plain": [
       "                 InventoryId  Store  Brand                 Description Size  \\\n",
       "1109668    34_PITMERDEN_3121     34   3121    Pinnacle Rainbow Sherbet  NaN   \n",
       "1112426    34_PITMERDEN_5678     34   5678      Skinnygirl Pina Colada  NaN   \n",
       "1116302  39_EASTHALLOW_15365     39  15365  Alabaster 07 Tinta de Toro  NaN   \n",
       "\n",
       "         VendorNumber                   VendorName  PONumber      PODate  \\\n",
       "1109668         12546  JIM BEAM BRANDS COMPANY         10938  2016-06-27   \n",
       "1112426         12546  JIM BEAM BRANDS COMPANY         10938  2016-06-27   \n",
       "1116302          9552  M S WALKER INC                  10972  2016-06-29   \n",
       "\n",
       "        ReceivingDate InvoiceDate     PayDate  PurchasePrice  Quantity  \\\n",
       "1109668    2016-07-04  2016-07-13  2016-08-16           6.93         7   \n",
       "1112426    2016-07-09  2016-07-13  2016-08-16           6.93         6   \n",
       "1116302    2016-07-07  2016-07-13  2016-08-21          91.83         1   \n",
       "\n",
       "         Dollars  Classification  \n",
       "1109668    48.51               1  \n",
       "1112426    41.58               1  \n",
       "1116302    91.83               2  "
      ]
     },
     "execution_count": 40,
     "metadata": {},
     "output_type": "execute_result"
    }
   ],
   "source": [
    "# Select rows in the DataFrame where the 'Size' column is null (missing values)\n",
    "PurchaseFinal[PurchaseFinal['Size'].isnull()]"
   ]
  },
  {
   "cell_type": "code",
   "execution_count": 41,
   "id": "812e9b68",
   "metadata": {},
   "outputs": [],
   "source": [
    "# Remove rows with missing values (NaN) from the DataFrame in-place\n",
    "PurchaseFinal.dropna(inplace = True)"
   ]
  },
  {
   "cell_type": "code",
   "execution_count": 42,
   "id": "499bca8a",
   "metadata": {},
   "outputs": [
    {
     "data": {
      "text/html": [
       "<div>\n",
       "<style scoped>\n",
       "    .dataframe tbody tr th:only-of-type {\n",
       "        vertical-align: middle;\n",
       "    }\n",
       "\n",
       "    .dataframe tbody tr th {\n",
       "        vertical-align: top;\n",
       "    }\n",
       "\n",
       "    .dataframe thead th {\n",
       "        text-align: right;\n",
       "    }\n",
       "</style>\n",
       "<table border=\"1\" class=\"dataframe\">\n",
       "  <thead>\n",
       "    <tr style=\"text-align: right;\">\n",
       "      <th></th>\n",
       "      <th>Store</th>\n",
       "      <th>Brand</th>\n",
       "      <th>VendorNumber</th>\n",
       "      <th>PONumber</th>\n",
       "      <th>PurchasePrice</th>\n",
       "      <th>Quantity</th>\n",
       "      <th>Dollars</th>\n",
       "      <th>Classification</th>\n",
       "    </tr>\n",
       "  </thead>\n",
       "  <tbody>\n",
       "    <tr>\n",
       "      <th>Store</th>\n",
       "      <td>1.000000</td>\n",
       "      <td>0.034565</td>\n",
       "      <td>0.008087</td>\n",
       "      <td>0.017260</td>\n",
       "      <td>0.025590</td>\n",
       "      <td>0.004462</td>\n",
       "      <td>0.025745</td>\n",
       "      <td>0.038144</td>\n",
       "    </tr>\n",
       "    <tr>\n",
       "      <th>Brand</th>\n",
       "      <td>0.034565</td>\n",
       "      <td>1.000000</td>\n",
       "      <td>-0.003224</td>\n",
       "      <td>0.007495</td>\n",
       "      <td>-0.145681</td>\n",
       "      <td>-0.035341</td>\n",
       "      <td>-0.085899</td>\n",
       "      <td>0.739753</td>\n",
       "    </tr>\n",
       "    <tr>\n",
       "      <th>VendorNumber</th>\n",
       "      <td>0.008087</td>\n",
       "      <td>-0.003224</td>\n",
       "      <td>1.000000</td>\n",
       "      <td>-0.004309</td>\n",
       "      <td>0.022472</td>\n",
       "      <td>-0.008045</td>\n",
       "      <td>0.008047</td>\n",
       "      <td>-0.031739</td>\n",
       "    </tr>\n",
       "    <tr>\n",
       "      <th>PONumber</th>\n",
       "      <td>0.017260</td>\n",
       "      <td>0.007495</td>\n",
       "      <td>-0.004309</td>\n",
       "      <td>1.000000</td>\n",
       "      <td>0.012961</td>\n",
       "      <td>0.014371</td>\n",
       "      <td>0.023810</td>\n",
       "      <td>0.011513</td>\n",
       "    </tr>\n",
       "    <tr>\n",
       "      <th>PurchasePrice</th>\n",
       "      <td>0.025590</td>\n",
       "      <td>-0.145681</td>\n",
       "      <td>0.022472</td>\n",
       "      <td>0.012961</td>\n",
       "      <td>1.000000</td>\n",
       "      <td>-0.082941</td>\n",
       "      <td>0.211512</td>\n",
       "      <td>-0.190782</td>\n",
       "    </tr>\n",
       "    <tr>\n",
       "      <th>Quantity</th>\n",
       "      <td>0.004462</td>\n",
       "      <td>-0.035341</td>\n",
       "      <td>-0.008045</td>\n",
       "      <td>0.014371</td>\n",
       "      <td>-0.082941</td>\n",
       "      <td>1.000000</td>\n",
       "      <td>0.596737</td>\n",
       "      <td>-0.055789</td>\n",
       "    </tr>\n",
       "    <tr>\n",
       "      <th>Dollars</th>\n",
       "      <td>0.025745</td>\n",
       "      <td>-0.085899</td>\n",
       "      <td>0.008047</td>\n",
       "      <td>0.023810</td>\n",
       "      <td>0.211512</td>\n",
       "      <td>0.596737</td>\n",
       "      <td>1.000000</td>\n",
       "      <td>-0.113963</td>\n",
       "    </tr>\n",
       "    <tr>\n",
       "      <th>Classification</th>\n",
       "      <td>0.038144</td>\n",
       "      <td>0.739753</td>\n",
       "      <td>-0.031739</td>\n",
       "      <td>0.011513</td>\n",
       "      <td>-0.190782</td>\n",
       "      <td>-0.055789</td>\n",
       "      <td>-0.113963</td>\n",
       "      <td>1.000000</td>\n",
       "    </tr>\n",
       "  </tbody>\n",
       "</table>\n",
       "</div>"
      ],
      "text/plain": [
       "                   Store     Brand  VendorNumber  PONumber  PurchasePrice  \\\n",
       "Store           1.000000  0.034565      0.008087  0.017260       0.025590   \n",
       "Brand           0.034565  1.000000     -0.003224  0.007495      -0.145681   \n",
       "VendorNumber    0.008087 -0.003224      1.000000 -0.004309       0.022472   \n",
       "PONumber        0.017260  0.007495     -0.004309  1.000000       0.012961   \n",
       "PurchasePrice   0.025590 -0.145681      0.022472  0.012961       1.000000   \n",
       "Quantity        0.004462 -0.035341     -0.008045  0.014371      -0.082941   \n",
       "Dollars         0.025745 -0.085899      0.008047  0.023810       0.211512   \n",
       "Classification  0.038144  0.739753     -0.031739  0.011513      -0.190782   \n",
       "\n",
       "                Quantity   Dollars  Classification  \n",
       "Store           0.004462  0.025745        0.038144  \n",
       "Brand          -0.035341 -0.085899        0.739753  \n",
       "VendorNumber   -0.008045  0.008047       -0.031739  \n",
       "PONumber        0.014371  0.023810        0.011513  \n",
       "PurchasePrice  -0.082941  0.211512       -0.190782  \n",
       "Quantity        1.000000  0.596737       -0.055789  \n",
       "Dollars         0.596737  1.000000       -0.113963  \n",
       "Classification -0.055789 -0.113963        1.000000  "
      ]
     },
     "execution_count": 42,
     "metadata": {},
     "output_type": "execute_result"
    }
   ],
   "source": [
    "# Calculate the correlation between columns in the DataFrame\n",
    "PurchaseFinal.corr()"
   ]
  },
  {
   "cell_type": "code",
   "execution_count": 43,
   "id": "4b79e69d",
   "metadata": {},
   "outputs": [
    {
     "data": {
      "image/png": "[encoded data removed]",
      "text/plain": [
       "<Figure size 720x576 with 2 Axes>"
      ]
     },
     "metadata": {
      "needs_background": "light"
     },
     "output_type": "display_data"
    }
   ],
   "source": [
    "# Create a heatmap of the correlation matrix with Seaborn\n",
    "plt.figure(figsize = (10,8))\n",
    "sns.heatmap(PurchaseFinal.corr(),cmap = 'cividis' ,annot = True)\n",
    "plt.show()"
   ]
  },
  {
   "cell_type": "markdown",
   "id": "c32cde19",
   "metadata": {},
   "source": [
    "### Final Sales Analysis"
   ]
  },
  {
   "cell_type": "code",
   "execution_count": 44,
   "id": "1bb6cf38",
   "metadata": {},
   "outputs": [
    {
     "data": {
      "text/html": [
       "<div>\n",
       "<style scoped>\n",
       "    .dataframe tbody tr th:only-of-type {\n",
       "        vertical-align: middle;\n",
       "    }\n",
       "\n",
       "    .dataframe tbody tr th {\n",
       "        vertical-align: top;\n",
       "    }\n",
       "\n",
       "    .dataframe thead th {\n",
       "        text-align: right;\n",
       "    }\n",
       "</style>\n",
       "<table border=\"1\" class=\"dataframe\">\n",
       "  <thead>\n",
       "    <tr style=\"text-align: right;\">\n",
       "      <th></th>\n",
       "      <th>InventoryId</th>\n",
       "      <th>Store</th>\n",
       "      <th>Brand</th>\n",
       "      <th>Description</th>\n",
       "      <th>Size</th>\n",
       "      <th>SalesQuantity</th>\n",
       "      <th>SalesDollars</th>\n",
       "      <th>SalesPrice</th>\n",
       "      <th>SalesDate</th>\n",
       "      <th>Volume</th>\n",
       "      <th>Classification</th>\n",
       "      <th>ExciseTax</th>\n",
       "      <th>VendorNo</th>\n",
       "      <th>VendorName</th>\n",
       "    </tr>\n",
       "  </thead>\n",
       "  <tbody>\n",
       "    <tr>\n",
       "      <th>0</th>\n",
       "      <td>1_HARDERSFIELD_1004</td>\n",
       "      <td>1</td>\n",
       "      <td>1004</td>\n",
       "      <td>Jim Beam w/2 Rocks Glasses</td>\n",
       "      <td>750mL</td>\n",
       "      <td>1</td>\n",
       "      <td>16.49</td>\n",
       "      <td>16.49</td>\n",
       "      <td>1/1/2016</td>\n",
       "      <td>750</td>\n",
       "      <td>1</td>\n",
       "      <td>0.79</td>\n",
       "      <td>12546</td>\n",
       "      <td>JIM BEAM BRANDS COMPANY</td>\n",
       "    </tr>\n",
       "    <tr>\n",
       "      <th>1</th>\n",
       "      <td>1_HARDERSFIELD_1004</td>\n",
       "      <td>1</td>\n",
       "      <td>1004</td>\n",
       "      <td>Jim Beam w/2 Rocks Glasses</td>\n",
       "      <td>750mL</td>\n",
       "      <td>2</td>\n",
       "      <td>32.98</td>\n",
       "      <td>16.49</td>\n",
       "      <td>1/2/2016</td>\n",
       "      <td>750</td>\n",
       "      <td>1</td>\n",
       "      <td>1.57</td>\n",
       "      <td>12546</td>\n",
       "      <td>JIM BEAM BRANDS COMPANY</td>\n",
       "    </tr>\n",
       "    <tr>\n",
       "      <th>2</th>\n",
       "      <td>1_HARDERSFIELD_1004</td>\n",
       "      <td>1</td>\n",
       "      <td>1004</td>\n",
       "      <td>Jim Beam w/2 Rocks Glasses</td>\n",
       "      <td>750mL</td>\n",
       "      <td>1</td>\n",
       "      <td>16.49</td>\n",
       "      <td>16.49</td>\n",
       "      <td>1/3/2016</td>\n",
       "      <td>750</td>\n",
       "      <td>1</td>\n",
       "      <td>0.79</td>\n",
       "      <td>12546</td>\n",
       "      <td>JIM BEAM BRANDS COMPANY</td>\n",
       "    </tr>\n",
       "    <tr>\n",
       "      <th>3</th>\n",
       "      <td>1_HARDERSFIELD_1004</td>\n",
       "      <td>1</td>\n",
       "      <td>1004</td>\n",
       "      <td>Jim Beam w/2 Rocks Glasses</td>\n",
       "      <td>750mL</td>\n",
       "      <td>1</td>\n",
       "      <td>14.49</td>\n",
       "      <td>14.49</td>\n",
       "      <td>1/8/2016</td>\n",
       "      <td>750</td>\n",
       "      <td>1</td>\n",
       "      <td>0.79</td>\n",
       "      <td>12546</td>\n",
       "      <td>JIM BEAM BRANDS COMPANY</td>\n",
       "    </tr>\n",
       "    <tr>\n",
       "      <th>4</th>\n",
       "      <td>1_HARDERSFIELD_1005</td>\n",
       "      <td>1</td>\n",
       "      <td>1005</td>\n",
       "      <td>Maker's Mark Combo Pack</td>\n",
       "      <td>375mL 2 Pk</td>\n",
       "      <td>2</td>\n",
       "      <td>69.98</td>\n",
       "      <td>34.99</td>\n",
       "      <td>1/9/2016</td>\n",
       "      <td>375</td>\n",
       "      <td>1</td>\n",
       "      <td>0.79</td>\n",
       "      <td>12546</td>\n",
       "      <td>JIM BEAM BRANDS COMPANY</td>\n",
       "    </tr>\n",
       "  </tbody>\n",
       "</table>\n",
       "</div>"
      ],
      "text/plain": [
       "           InventoryId  Store  Brand                 Description        Size  \\\n",
       "0  1_HARDERSFIELD_1004      1   1004  Jim Beam w/2 Rocks Glasses       750mL   \n",
       "1  1_HARDERSFIELD_1004      1   1004  Jim Beam w/2 Rocks Glasses       750mL   \n",
       "2  1_HARDERSFIELD_1004      1   1004  Jim Beam w/2 Rocks Glasses       750mL   \n",
       "3  1_HARDERSFIELD_1004      1   1004  Jim Beam w/2 Rocks Glasses       750mL   \n",
       "4  1_HARDERSFIELD_1005      1   1005     Maker's Mark Combo Pack  375mL 2 Pk   \n",
       "\n",
       "   SalesQuantity  SalesDollars  SalesPrice SalesDate  Volume  Classification  \\\n",
       "0              1         16.49       16.49  1/1/2016     750               1   \n",
       "1              2         32.98       16.49  1/2/2016     750               1   \n",
       "2              1         16.49       16.49  1/3/2016     750               1   \n",
       "3              1         14.49       14.49  1/8/2016     750               1   \n",
       "4              2         69.98       34.99  1/9/2016     375               1   \n",
       "\n",
       "   ExciseTax  VendorNo                   VendorName  \n",
       "0       0.79     12546  JIM BEAM BRANDS COMPANY      \n",
       "1       1.57     12546  JIM BEAM BRANDS COMPANY      \n",
       "2       0.79     12546  JIM BEAM BRANDS COMPANY      \n",
       "3       0.79     12546  JIM BEAM BRANDS COMPANY      \n",
       "4       0.79     12546  JIM BEAM BRANDS COMPANY      "
      ]
     },
     "execution_count": 44,
     "metadata": {},
     "output_type": "execute_result"
    }
   ],
   "source": [
    "# Display the first few rows of the DataFrame 'SalesFinal'\n",
    "SalesFinal.head()"
   ]
  },
  {
   "cell_type": "code",
   "execution_count": 45,
   "id": "846709d1",
   "metadata": {},
   "outputs": [],
   "source": [
    "# Calculate the 'Total Amount' column by adding 'SalesDollars' and 'ExciseTax' columns\n",
    "SalesFinal['Total Amount'] = SalesFinal['SalesDollars'] + SalesFinal['ExciseTax']"
   ]
  },
  {
   "cell_type": "code",
   "execution_count": 46,
   "id": "4ec3c115",
   "metadata": {},
   "outputs": [
    {
     "data": {
      "text/plain": [
       "(1048575, 15)"
      ]
     },
     "execution_count": 46,
     "metadata": {},
     "output_type": "execute_result"
    }
   ],
   "source": [
    "# Get the shape of the DataFrame, which is a tuple (number of rows, number of columns)\n",
    "SalesFinal.shape"
   ]
  },
  {
   "cell_type": "code",
   "execution_count": 47,
   "id": "8b8738da",
   "metadata": {},
   "outputs": [
    {
     "name": "stdout",
     "output_type": "stream",
     "text": [
      "<class 'pandas.core.frame.DataFrame'>\n",
      "RangeIndex: 1048575 entries, 0 to 1048574\n",
      "Data columns (total 15 columns):\n",
      " #   Column          Non-Null Count    Dtype  \n",
      "---  ------          --------------    -----  \n",
      " 0   InventoryId     1048575 non-null  object \n",
      " 1   Store           1048575 non-null  int64  \n",
      " 2   Brand           1048575 non-null  int64  \n",
      " 3   Description     1048575 non-null  object \n",
      " 4   Size            1048575 non-null  object \n",
      " 5   SalesQuantity   1048575 non-null  int64  \n",
      " 6   SalesDollars    1048575 non-null  float64\n",
      " 7   SalesPrice      1048575 non-null  float64\n",
      " 8   SalesDate       1048575 non-null  object \n",
      " 9   Volume          1048575 non-null  int64  \n",
      " 10  Classification  1048575 non-null  int64  \n",
      " 11  ExciseTax       1048575 non-null  float64\n",
      " 12  VendorNo        1048575 non-null  int64  \n",
      " 13  VendorName      1048575 non-null  object \n",
      " 14  Total Amount    1048575 non-null  float64\n",
      "dtypes: float64(4), int64(6), object(5)\n",
      "memory usage: 120.0+ MB\n"
     ]
    }
   ],
   "source": [
    "# Display information about the DataFrame, including data types and non-null values\n",
    "SalesFinal.info()"
   ]
  },
  {
   "cell_type": "code",
   "execution_count": 48,
   "id": "7b7e766e",
   "metadata": {},
   "outputs": [
    {
     "data": {
      "text/html": [
       "<div>\n",
       "<style scoped>\n",
       "    .dataframe tbody tr th:only-of-type {\n",
       "        vertical-align: middle;\n",
       "    }\n",
       "\n",
       "    .dataframe tbody tr th {\n",
       "        vertical-align: top;\n",
       "    }\n",
       "\n",
       "    .dataframe thead th {\n",
       "        text-align: right;\n",
       "    }\n",
       "</style>\n",
       "<table border=\"1\" class=\"dataframe\">\n",
       "  <thead>\n",
       "    <tr style=\"text-align: right;\">\n",
       "      <th></th>\n",
       "      <th>count</th>\n",
       "      <th>mean</th>\n",
       "      <th>std</th>\n",
       "      <th>min</th>\n",
       "      <th>25%</th>\n",
       "      <th>50%</th>\n",
       "      <th>75%</th>\n",
       "      <th>max</th>\n",
       "    </tr>\n",
       "  </thead>\n",
       "  <tbody>\n",
       "    <tr>\n",
       "      <th>Store</th>\n",
       "      <td>1048575.0</td>\n",
       "      <td>40.080632</td>\n",
       "      <td>24.357388</td>\n",
       "      <td>1.00</td>\n",
       "      <td>15.00</td>\n",
       "      <td>39.00</td>\n",
       "      <td>64.00</td>\n",
       "      <td>79.00</td>\n",
       "    </tr>\n",
       "    <tr>\n",
       "      <th>Brand</th>\n",
       "      <td>1048575.0</td>\n",
       "      <td>12169.585281</td>\n",
       "      <td>12419.213625</td>\n",
       "      <td>58.00</td>\n",
       "      <td>3680.00</td>\n",
       "      <td>6296.00</td>\n",
       "      <td>17954.00</td>\n",
       "      <td>90089.00</td>\n",
       "    </tr>\n",
       "    <tr>\n",
       "      <th>SalesQuantity</th>\n",
       "      <td>1048575.0</td>\n",
       "      <td>2.337619</td>\n",
       "      <td>3.511492</td>\n",
       "      <td>1.00</td>\n",
       "      <td>1.00</td>\n",
       "      <td>1.00</td>\n",
       "      <td>2.00</td>\n",
       "      <td>432.00</td>\n",
       "    </tr>\n",
       "    <tr>\n",
       "      <th>SalesDollars</th>\n",
       "      <td>1048575.0</td>\n",
       "      <td>31.604201</td>\n",
       "      <td>65.702486</td>\n",
       "      <td>0.49</td>\n",
       "      <td>10.99</td>\n",
       "      <td>17.99</td>\n",
       "      <td>31.99</td>\n",
       "      <td>13279.97</td>\n",
       "    </tr>\n",
       "    <tr>\n",
       "      <th>SalesPrice</th>\n",
       "      <td>1048575.0</td>\n",
       "      <td>15.431622</td>\n",
       "      <td>14.049674</td>\n",
       "      <td>0.49</td>\n",
       "      <td>8.99</td>\n",
       "      <td>12.99</td>\n",
       "      <td>18.99</td>\n",
       "      <td>4999.99</td>\n",
       "    </tr>\n",
       "    <tr>\n",
       "      <th>Volume</th>\n",
       "      <td>1048575.0</td>\n",
       "      <td>950.028027</td>\n",
       "      <td>714.270774</td>\n",
       "      <td>50.00</td>\n",
       "      <td>750.00</td>\n",
       "      <td>750.00</td>\n",
       "      <td>1500.00</td>\n",
       "      <td>20000.00</td>\n",
       "    </tr>\n",
       "    <tr>\n",
       "      <th>Classification</th>\n",
       "      <td>1048575.0</td>\n",
       "      <td>1.416550</td>\n",
       "      <td>0.492987</td>\n",
       "      <td>1.00</td>\n",
       "      <td>1.00</td>\n",
       "      <td>1.00</td>\n",
       "      <td>2.00</td>\n",
       "      <td>2.00</td>\n",
       "    </tr>\n",
       "    <tr>\n",
       "      <th>ExciseTax</th>\n",
       "      <td>1048575.0</td>\n",
       "      <td>1.326847</td>\n",
       "      <td>3.407898</td>\n",
       "      <td>0.01</td>\n",
       "      <td>0.16</td>\n",
       "      <td>0.68</td>\n",
       "      <td>1.57</td>\n",
       "      <td>378.52</td>\n",
       "    </tr>\n",
       "    <tr>\n",
       "      <th>VendorNo</th>\n",
       "      <td>1048575.0</td>\n",
       "      <td>6995.043206</td>\n",
       "      <td>8426.735714</td>\n",
       "      <td>2.00</td>\n",
       "      <td>3252.00</td>\n",
       "      <td>4425.00</td>\n",
       "      <td>9552.00</td>\n",
       "      <td>173357.00</td>\n",
       "    </tr>\n",
       "    <tr>\n",
       "      <th>Total Amount</th>\n",
       "      <td>1048575.0</td>\n",
       "      <td>32.931048</td>\n",
       "      <td>68.039280</td>\n",
       "      <td>0.54</td>\n",
       "      <td>11.21</td>\n",
       "      <td>18.78</td>\n",
       "      <td>33.65</td>\n",
       "      <td>13308.43</td>\n",
       "    </tr>\n",
       "  </tbody>\n",
       "</table>\n",
       "</div>"
      ],
      "text/plain": [
       "                    count          mean           std    min      25%  \\\n",
       "Store           1048575.0     40.080632     24.357388   1.00    15.00   \n",
       "Brand           1048575.0  12169.585281  12419.213625  58.00  3680.00   \n",
       "SalesQuantity   1048575.0      2.337619      3.511492   1.00     1.00   \n",
       "SalesDollars    1048575.0     31.604201     65.702486   0.49    10.99   \n",
       "SalesPrice      1048575.0     15.431622     14.049674   0.49     8.99   \n",
       "Volume          1048575.0    950.028027    714.270774  50.00   750.00   \n",
       "Classification  1048575.0      1.416550      0.492987   1.00     1.00   \n",
       "ExciseTax       1048575.0      1.326847      3.407898   0.01     0.16   \n",
       "VendorNo        1048575.0   6995.043206   8426.735714   2.00  3252.00   \n",
       "Total Amount    1048575.0     32.931048     68.039280   0.54    11.21   \n",
       "\n",
       "                    50%       75%        max  \n",
       "Store             39.00     64.00      79.00  \n",
       "Brand           6296.00  17954.00   90089.00  \n",
       "SalesQuantity      1.00      2.00     432.00  \n",
       "SalesDollars      17.99     31.99   13279.97  \n",
       "SalesPrice        12.99     18.99    4999.99  \n",
       "Volume           750.00   1500.00   20000.00  \n",
       "Classification     1.00      2.00       2.00  \n",
       "ExciseTax          0.68      1.57     378.52  \n",
       "VendorNo        4425.00   9552.00  173357.00  \n",
       "Total Amount      18.78     33.65   13308.43  "
      ]
     },
     "execution_count": 48,
     "metadata": {},
     "output_type": "execute_result"
    }
   ],
   "source": [
    "# Generate summary statistics for the DataFrame, transposed for better readability\n",
    "SalesFinal.describe().T"
   ]
  },
  {
   "cell_type": "code",
   "execution_count": 49,
   "id": "abc78a85",
   "metadata": {},
   "outputs": [
    {
     "data": {
      "text/plain": [
       "InventoryId       0\n",
       "Store             0\n",
       "Brand             0\n",
       "Description       0\n",
       "Size              0\n",
       "SalesQuantity     0\n",
       "SalesDollars      0\n",
       "SalesPrice        0\n",
       "SalesDate         0\n",
       "Volume            0\n",
       "Classification    0\n",
       "ExciseTax         0\n",
       "VendorNo          0\n",
       "VendorName        0\n",
       "Total Amount      0\n",
       "dtype: int64"
      ]
     },
     "execution_count": 49,
     "metadata": {},
     "output_type": "execute_result"
    }
   ],
   "source": [
    "# Check and display the count of missing (null) values in each column of the DataFrame\n",
    "SalesFinal.isnull().sum()"
   ]
  },
  {
   "cell_type": "code",
   "execution_count": 50,
   "id": "358a5ed3",
   "metadata": {},
   "outputs": [
    {
     "data": {
      "text/html": [
       "<div>\n",
       "<style scoped>\n",
       "    .dataframe tbody tr th:only-of-type {\n",
       "        vertical-align: middle;\n",
       "    }\n",
       "\n",
       "    .dataframe tbody tr th {\n",
       "        vertical-align: top;\n",
       "    }\n",
       "\n",
       "    .dataframe thead th {\n",
       "        text-align: right;\n",
       "    }\n",
       "</style>\n",
       "<table border=\"1\" class=\"dataframe\">\n",
       "  <thead>\n",
       "    <tr style=\"text-align: right;\">\n",
       "      <th></th>\n",
       "      <th>Store</th>\n",
       "      <th>Brand</th>\n",
       "      <th>SalesQuantity</th>\n",
       "      <th>SalesDollars</th>\n",
       "      <th>SalesPrice</th>\n",
       "      <th>Volume</th>\n",
       "      <th>Classification</th>\n",
       "      <th>ExciseTax</th>\n",
       "      <th>VendorNo</th>\n",
       "      <th>Total Amount</th>\n",
       "    </tr>\n",
       "  </thead>\n",
       "  <tbody>\n",
       "    <tr>\n",
       "      <th>Store</th>\n",
       "      <td>1.000000</td>\n",
       "      <td>0.047706</td>\n",
       "      <td>0.011389</td>\n",
       "      <td>0.033255</td>\n",
       "      <td>0.040185</td>\n",
       "      <td>-0.025336</td>\n",
       "      <td>0.055353</td>\n",
       "      <td>-0.006639</td>\n",
       "      <td>0.005976</td>\n",
       "      <td>0.031780</td>\n",
       "    </tr>\n",
       "    <tr>\n",
       "      <th>Brand</th>\n",
       "      <td>0.047706</td>\n",
       "      <td>1.000000</td>\n",
       "      <td>-0.021921</td>\n",
       "      <td>-0.034501</td>\n",
       "      <td>-0.105634</td>\n",
       "      <td>0.037205</td>\n",
       "      <td>0.752780</td>\n",
       "      <td>-0.196474</td>\n",
       "      <td>0.017025</td>\n",
       "      <td>-0.043157</td>\n",
       "    </tr>\n",
       "    <tr>\n",
       "      <th>SalesQuantity</th>\n",
       "      <td>0.011389</td>\n",
       "      <td>-0.021921</td>\n",
       "      <td>1.000000</td>\n",
       "      <td>0.625535</td>\n",
       "      <td>-0.090585</td>\n",
       "      <td>-0.068905</td>\n",
       "      <td>-0.022889</td>\n",
       "      <td>0.545453</td>\n",
       "      <td>-0.023879</td>\n",
       "      <td>0.631371</td>\n",
       "    </tr>\n",
       "    <tr>\n",
       "      <th>SalesDollars</th>\n",
       "      <td>0.033255</td>\n",
       "      <td>-0.034501</td>\n",
       "      <td>0.625535</td>\n",
       "      <td>1.000000</td>\n",
       "      <td>0.338587</td>\n",
       "      <td>0.109596</td>\n",
       "      <td>-0.035793</td>\n",
       "      <td>0.671959</td>\n",
       "      <td>-0.006421</td>\n",
       "      <td>0.999312</td>\n",
       "    </tr>\n",
       "    <tr>\n",
       "      <th>SalesPrice</th>\n",
       "      <td>0.040185</td>\n",
       "      <td>-0.105634</td>\n",
       "      <td>-0.090585</td>\n",
       "      <td>0.338587</td>\n",
       "      <td>1.000000</td>\n",
       "      <td>0.213181</td>\n",
       "      <td>-0.129853</td>\n",
       "      <td>0.115501</td>\n",
       "      <td>0.018239</td>\n",
       "      <td>0.332743</td>\n",
       "    </tr>\n",
       "    <tr>\n",
       "      <th>Volume</th>\n",
       "      <td>-0.025336</td>\n",
       "      <td>0.037205</td>\n",
       "      <td>-0.068905</td>\n",
       "      <td>0.109596</td>\n",
       "      <td>0.213181</td>\n",
       "      <td>1.000000</td>\n",
       "      <td>0.105639</td>\n",
       "      <td>0.240154</td>\n",
       "      <td>-0.006242</td>\n",
       "      <td>0.117861</td>\n",
       "    </tr>\n",
       "    <tr>\n",
       "      <th>Classification</th>\n",
       "      <td>0.055353</td>\n",
       "      <td>0.752780</td>\n",
       "      <td>-0.022889</td>\n",
       "      <td>-0.035793</td>\n",
       "      <td>-0.129853</td>\n",
       "      <td>0.105639</td>\n",
       "      <td>1.000000</td>\n",
       "      <td>-0.247878</td>\n",
       "      <td>-0.000348</td>\n",
       "      <td>-0.046979</td>\n",
       "    </tr>\n",
       "    <tr>\n",
       "      <th>ExciseTax</th>\n",
       "      <td>-0.006639</td>\n",
       "      <td>-0.196474</td>\n",
       "      <td>0.545453</td>\n",
       "      <td>0.671959</td>\n",
       "      <td>0.115501</td>\n",
       "      <td>0.240154</td>\n",
       "      <td>-0.247878</td>\n",
       "      <td>1.000000</td>\n",
       "      <td>-0.006275</td>\n",
       "      <td>0.698968</td>\n",
       "    </tr>\n",
       "    <tr>\n",
       "      <th>VendorNo</th>\n",
       "      <td>0.005976</td>\n",
       "      <td>0.017025</td>\n",
       "      <td>-0.023879</td>\n",
       "      <td>-0.006421</td>\n",
       "      <td>0.018239</td>\n",
       "      <td>-0.006242</td>\n",
       "      <td>-0.000348</td>\n",
       "      <td>-0.006275</td>\n",
       "      <td>1.000000</td>\n",
       "      <td>-0.006515</td>\n",
       "    </tr>\n",
       "    <tr>\n",
       "      <th>Total Amount</th>\n",
       "      <td>0.031780</td>\n",
       "      <td>-0.043157</td>\n",
       "      <td>0.631371</td>\n",
       "      <td>0.999312</td>\n",
       "      <td>0.332743</td>\n",
       "      <td>0.117861</td>\n",
       "      <td>-0.046979</td>\n",
       "      <td>0.698968</td>\n",
       "      <td>-0.006515</td>\n",
       "      <td>1.000000</td>\n",
       "    </tr>\n",
       "  </tbody>\n",
       "</table>\n",
       "</div>"
      ],
      "text/plain": [
       "                   Store     Brand  SalesQuantity  SalesDollars  SalesPrice  \\\n",
       "Store           1.000000  0.047706       0.011389      0.033255    0.040185   \n",
       "Brand           0.047706  1.000000      -0.021921     -0.034501   -0.105634   \n",
       "SalesQuantity   0.011389 -0.021921       1.000000      0.625535   -0.090585   \n",
       "SalesDollars    0.033255 -0.034501       0.625535      1.000000    0.338587   \n",
       "SalesPrice      0.040185 -0.105634      -0.090585      0.338587    1.000000   \n",
       "Volume         -0.025336  0.037205      -0.068905      0.109596    0.213181   \n",
       "Classification  0.055353  0.752780      -0.022889     -0.035793   -0.129853   \n",
       "ExciseTax      -0.006639 -0.196474       0.545453      0.671959    0.115501   \n",
       "VendorNo        0.005976  0.017025      -0.023879     -0.006421    0.018239   \n",
       "Total Amount    0.031780 -0.043157       0.631371      0.999312    0.332743   \n",
       "\n",
       "                  Volume  Classification  ExciseTax  VendorNo  Total Amount  \n",
       "Store          -0.025336        0.055353  -0.006639  0.005976      0.031780  \n",
       "Brand           0.037205        0.752780  -0.196474  0.017025     -0.043157  \n",
       "SalesQuantity  -0.068905       -0.022889   0.545453 -0.023879      0.631371  \n",
       "SalesDollars    0.109596       -0.035793   0.671959 -0.006421      0.999312  \n",
       "SalesPrice      0.213181       -0.129853   0.115501  0.018239      0.332743  \n",
       "Volume          1.000000        0.105639   0.240154 -0.006242      0.117861  \n",
       "Classification  0.105639        1.000000  -0.247878 -0.000348     -0.046979  \n",
       "ExciseTax       0.240154       -0.247878   1.000000 -0.006275      0.698968  \n",
       "VendorNo       -0.006242       -0.000348  -0.006275  1.000000     -0.006515  \n",
       "Total Amount    0.117861       -0.046979   0.698968 -0.006515      1.000000  "
      ]
     },
     "execution_count": 50,
     "metadata": {},
     "output_type": "execute_result"
    }
   ],
   "source": [
    "# Calculate and display the correlation matrix for the DataFrame\n",
    "SalesFinal.corr()"
   ]
  },
  {
   "cell_type": "code",
   "execution_count": 51,
   "id": "26f38564",
   "metadata": {},
   "outputs": [
    {
     "data": {
      "image/png": "[encoded data removed]",
      "text/plain": [
       "<Figure size 720x576 with 2 Axes>"
      ]
     },
     "metadata": {
      "needs_background": "light"
     },
     "output_type": "display_data"
    }
   ],
   "source": [
    "# Create a heatmap of the correlation matrix with Seaborn\n",
    "plt.figure(figsize=(10,8))\n",
    "sns.heatmap(SalesFinal.corr(),cmap = 'coolwarm' ,annot = True)\n",
    "plt.show()"
   ]
  },
  {
   "cell_type": "markdown",
   "id": "04a2791e",
   "metadata": {},
   "source": [
    "### Exploratory Data Analysis"
   ]
  },
  {
   "cell_type": "markdown",
   "id": "787c76e3",
   "metadata": {},
   "source": [
    "### Top 5 products at the beginning and end of the year"
   ]
  },
  {
   "cell_type": "code",
   "execution_count": 52,
   "id": "f684c3da",
   "metadata": {},
   "outputs": [
    {
     "name": "stdout",
     "output_type": "stream",
     "text": [
      "Top 5 products at the beginning of the year:\n",
      " \n",
      " Brand  Description               \n",
      "4261   Capt Morgan Spiced Rum        15499\n",
      "8068   Absolut 80 Proof              15341\n",
      "3876   Smirnoff 80 Proof             14829\n",
      "3545   Ketel One Vodka               14499\n",
      "6879   Maurice's Mentholated Mint    14180\n",
      "Name: onHand, dtype: int64\n",
      " \n",
      " \n",
      "Top 5 products at the end of the year:\n",
      " \n",
      " Brand  Description            \n",
      "3545   Ketel One Vodka            16770\n",
      "4261   Capt Morgan Spiced Rum     16769\n",
      "8111   Smirnoff 80 Proof          16242\n",
      "8068   Absolut 80 Proof           15608\n",
      "1233   Jack Daniels No 7 Black    15047\n",
      "Name: onHand, dtype: int64\n"
     ]
    }
   ],
   "source": [
    "# Grouping  by the Brand and Description In addintion summarize inventory for beginning of the year.\n",
    "beg_summary = BegInv.groupby(['Brand', 'Description'])['onHand'].sum().sort_values(ascending = False)\n",
    "\n",
    "# Grouping  by the Brand and Description In addintion summarize inventory for end of the year.\n",
    "end_summary = EndInv.groupby(['Brand', 'Description'])['onHand'].sum().sort_values(ascending = False)\n",
    "\n",
    "# Identifying top 5 products at the beginning and end of the year\n",
    "top_5_beg = beg_summary.head(5)\n",
    "top_5_end = end_summary.head(5)\n",
    "\n",
    "print('Top 5 products at the beginning of the year:\\n',\"\\n\", top_5_beg)\n",
    "print(' ')\n",
    "print(' ')\n",
    "print('Top 5 products at the end of the year:\\n','\\n' ,top_5_end)"
   ]
  },
  {
   "cell_type": "markdown",
   "id": "08986513",
   "metadata": {},
   "source": [
    "###  Bottom 5 products at the beginning and end of the year"
   ]
  },
  {
   "cell_type": "code",
   "execution_count": 53,
   "id": "772ea09b",
   "metadata": {},
   "outputs": [
    {
     "name": "stdout",
     "output_type": "stream",
     "text": [
      "Bottom 5 products at the beginning of the year: \n",
      " \n",
      " Brand  Description                 \n",
      "42676  Kistler Chard Sonma Mountain    0\n",
      "34693  Valley of the Moon Chard        0\n",
      "42710  Pommery Pink Pop Rose           0\n",
      "22647  Guillaume Vrignaud Chablis 1    0\n",
      "21283  J Pierre Chablis Le Forneaux    0\n",
      "Name: onHand, dtype: int64\n",
      " \n",
      " \n",
      "Bottom 5 products at the end of the year:\n",
      "\n",
      " Brand  Description                \n",
      "22183  Ninety+Cellars Lot 112 Svgn    0\n",
      "19166  Stemmari Sangiovese            0\n",
      "16472  Lock & Key Meritage            0\n",
      "16531  Pazo de Galegos Albarino       0\n",
      "20133  Fancy Pants Cab Svgn           0\n",
      "Name: onHand, dtype: int64\n"
     ]
    }
   ],
   "source": [
    "# Identifying bottom 5 products at the beginning and end of the year\n",
    "bottom_5_beg = beg_summary.tail(5)\n",
    "bottom_5_end = end_summary.tail(5)\n",
    "\n",
    "print('Bottom 5 products at the beginning of the year: \\n','\\n', bottom_5_beg )\n",
    "print(' ')\n",
    "print(' ')\n",
    "print('Bottom 5 products at the end of the year:\\n' '\\n', bottom_5_end)"
   ]
  },
  {
   "cell_type": "markdown",
   "id": "98b8e680",
   "metadata": {},
   "source": [
    "__Top Products:__\n",
    "- `Ketel One Vodka` emerge as the top product by the end of teh yeaer, even though it was in the 4th position at the beginning. This could imply an increased demand or higher restocking levels for this product dusrig the year."
   ]
  },
  {
   "cell_type": "markdown",
   "id": "495c207c",
   "metadata": {},
   "source": [
    "### Best Selling Product"
   ]
  },
  {
   "cell_type": "code",
   "execution_count": 54,
   "id": "c1a81225",
   "metadata": {},
   "outputs": [
    {
     "name": "stdout",
     "output_type": "stream",
     "text": [
      "Best Selling 10 Products:\n",
      "                                     SalesQuantity\n",
      "Brand Description                                \n",
      "8111  Smirnoff 80 Proof                     28544\n",
      "1892  Yukon Jack                            23121\n",
      "4261  Capt Morgan Spiced Rum                20226\n",
      "3606  Smirnoff Raspberry Vodka              19200\n",
      "5111  Dr McGillicuddy's Mentholmnt          18411\n",
      "3837  Skyy Vodka                            14057\n",
      "4135  Smirnoff Blueberry Vodka              12477\n",
      "4157  Smirnoff Green Apple Vodka            12102\n",
      "3545  Ketel One Vodka                       11883\n",
      "8068  Absolut 80 Proof                      11189 \n",
      "\n",
      "Least Selling 10 Products:\n",
      "                                     SalesQuantity\n",
      "Brand Description                                \n",
      "17741 Olivier Leflaive Bourg Al 12              1\n",
      "25653 Ca'Momi Chard Rsv Napa                    1\n",
      "25727 Chappellet Cab Svgn Pritchrd              1\n",
      "4460  Cruzan Strawberry Rum                     1\n",
      "17598 Ch Ducru-Beaucalliou 09 Gr C              1\n",
      "17576 Benefactor Cellars Cab Svgn               1\n",
      "4308  Mount Gay Eclipse Silver Rum              1\n",
      "4260  Capt Morgan Original Barrel               1\n",
      "4164  Hennessey 250 Collectors Edi              1\n",
      "5114  DeKuyper Red Headed Burst                 1 \n",
      "\n"
     ]
    }
   ],
   "source": [
    "# Finding the best-selling products\n",
    "best_selling_products = SalesFinal.groupby(['Brand', 'Description']).agg({'SalesQuantity':'sum'}).sort_values(by = 'SalesQuantity', ascending = False).head(10)\n",
    "print(f'Best Selling 10 Products:\\n', best_selling_products,'\\n')\n",
    "\n",
    "# Finding the Least/ slow Selling products\n",
    "least_selling_products = SalesFinal.groupby(['Brand', 'Description']).agg({'SalesQuantity':'sum'}).sort_values(by = 'SalesQuantity', ascending = False).tail(10)\n",
    "print(f'Least Selling 10 Products:\\n', least_selling_products,'\\n')\n"
   ]
  },
  {
   "cell_type": "code",
   "execution_count": 59,
   "id": "2d52847d",
   "metadata": {},
   "outputs": [
    {
     "data": {
      "text/plain": [
       "<AxesSubplot:title={'center':'Sales Quantity Over Time'}, xlabel='SalesDate'>"
      ]
     },
     "execution_count": 59,
     "metadata": {},
     "output_type": "execute_result"
    },
    {
     "data": {
      "image/png": "[encoded data removed]",
      "text/plain": [
       "<Figure size 1008x504 with 1 Axes>"
      ]
     },
     "metadata": {},
     "output_type": "display_data"
    }
   ],
   "source": [
    "SalesFinal['SalesDate'] = pd.to_datetime(SalesFinal['SalesDate'])\n",
    "Sales_quantity = SalesFinal.groupby('SalesDate').agg({'SalesQuantity' : 'sum'})\n",
    "Sales_quantity.plot(figsize=(14,7), title='Sales Quantity Over Time', color = 'blue')"
   ]
  },
  {
   "cell_type": "code",
   "execution_count": 60,
   "id": "dd9ea156",
   "metadata": {},
   "outputs": [
    {
     "data": {
      "text/plain": [
       "<AxesSubplot:title={'center':'Average Sales Price Over Time'}, xlabel='SalesDate'>"
      ]
     },
     "execution_count": 60,
     "metadata": {},
     "output_type": "execute_result"
    },
    {
     "data": {
      "image/png": "[encoded data removed]",
      "text/plain": [
       "<Figure size 1008x504 with 1 Axes>"
      ]
     },
     "metadata": {},
     "output_type": "display_data"
    }
   ],
   "source": [
    "avg_price = SalesFinal.groupby('SalesDate').agg({'SalesPrice' : 'mean'})\n",
    "avg_price.plot(figsize = (14,7), title = 'Average Sales Price Over Time', color = 'red')"
   ]
  },
  {
   "cell_type": "markdown",
   "id": "664afacb",
   "metadata": {},
   "source": [
    "### Top Brands by Price"
   ]
  },
  {
   "cell_type": "code",
   "execution_count": 61,
   "id": "c12a81c4",
   "metadata": {},
   "outputs": [
    {
     "data": {
      "text/plain": [
       "Description\n",
       "Glen Grant 50 Yr Scotch         13999.90\n",
       "Patron En Lalique Tequila        7499.99\n",
       "Glenmorangie Pride               5799.99\n",
       "The Macallan M Decanter          4999.99\n",
       "Appleton Estate 50Yr Old Rum     4999.99\n",
       "Hennessy Richard Cognac          4559.99\n",
       "Armand De Brignac Brut           4222.99\n",
       "Highland Park 1968               3999.99\n",
       "Port Ellen 32 Yr Single Malt     3699.99\n",
       "Glenfiddich 1978 Rare Collct     3499.99\n",
       "Name: Price, dtype: float64"
      ]
     },
     "execution_count": 61,
     "metadata": {},
     "output_type": "execute_result"
    }
   ],
   "source": [
    "# Get the top 10 brands with the highest price tags\n",
    "Top_10 = PurchasePrice.groupby(['Description'])['Price'].max().sort_values(ascending = False).head(10)\n",
    "Top_10"
   ]
  },
  {
   "cell_type": "code",
   "execution_count": 62,
   "id": "bd731f35",
   "metadata": {},
   "outputs": [
    {
     "data": {
      "image/png": "[encoded data removed]",
      "text/plain": [
       "<Figure size 720x432 with 1 Axes>"
      ]
     },
     "metadata": {},
     "output_type": "display_data"
    }
   ],
   "source": [
    "# Create a horizontal bar plot using seaborn\n",
    "sns.set_style('whitegrid')\n",
    "plt.figure(figsize=(10, 6))\n",
    "ax = sns.barplot(x=Top_10.values, y=Top_10.index, palette='Blues_d')\n",
    "\n",
    "# Set the title and axis labels\n",
    "plt.title('Top 10 Brands with Highest Price Tags')\n",
    "plt.xlabel('Price')\n",
    "plt.ylabel('Brands')\n",
    "\n",
    "# Show the plot\n",
    "plt.show()"
   ]
  },
  {
   "cell_type": "markdown",
   "id": "4cfdb5e9",
   "metadata": {},
   "source": [
    "The output is horizontal bar plot showing the top 10 brands with the highest price tags."
   ]
  },
  {
   "cell_type": "markdown",
   "id": "2d1fd4a5",
   "metadata": {},
   "source": [
    "### Vendor vs. Quantity Analysis"
   ]
  },
  {
   "cell_type": "code",
   "execution_count": 64,
   "id": "cb939043",
   "metadata": {},
   "outputs": [
    {
     "data": {
      "image/png": "[encoded data removed]",
      "text/plain": [
       "<Figure size 432x432 with 1 Axes>"
      ]
     },
     "metadata": {},
     "output_type": "display_data"
    }
   ],
   "source": [
    "# Calculate the top 10 vendors and their quantities\n",
    "top_vendors = Purchases.groupby(['VendorName'])['Quantity'].max().sort_values(ascending=False)[:10]\n",
    "\n",
    "# Create a pie chart\n",
    "plt.figure(figsize=(6, 6))\n",
    "plt.pie(top_vendors,labels=top_vendors.index,autopct='%1.1f%%',startangle=140,explode=(0.15,0,0,0,0,0,0,0,0,0),shadow=True)\n",
    "\n",
    "# Set the title for the pie chart\n",
    "plt.title('Vendors vs Quantity Distribution')\n",
    "\n",
    "# Ensure an equal aspect ratio for a circular pie chart\n",
    "plt.axis('equal')\n",
    "\n",
    "# Display the pie chart\n",
    "plt.show()"
   ]
  },
  {
   "cell_type": "markdown",
   "id": "1f7ec357",
   "metadata": {},
   "source": [
    "The output is pie chart will be a visual representation of the top 10 vendors and their quantities, which can be used to identify the most important vendors to the business."
   ]
  },
  {
   "cell_type": "markdown",
   "id": "f61dab5b",
   "metadata": {},
   "source": [
    "### Total Amount Distribution for Top Vendors\n"
   ]
  },
  {
   "cell_type": "code",
   "execution_count": 65,
   "id": "0b529164",
   "metadata": {},
   "outputs": [
    {
     "data": {
      "image/png": "[encoded data removed]",
      "text/plain": [
       "<Figure size 720x432 with 1 Axes>"
      ]
     },
     "metadata": {},
     "output_type": "display_data"
    }
   ],
   "source": [
    "# Create a new figure with a specified size \n",
    "plt.figure(figsize=(10, 6))\n",
    "\n",
    "# Group the data by 'VendorName,' find the maximum 'Total Amount' for each vendor, \n",
    "# sort them in descending order, and select the top 10 vendors.\n",
    "top_vendors = Purchases.groupby(['VendorName'])['Total'].max().sort_values(ascending=False).index[:10]\n",
    "\n",
    "# Create a violin plot to visualize the distribution of 'Total Amount' for the top vendors.\n",
    "sns.violinplot(x='Total',y='VendorName',data=Purchases[Purchases['VendorName'].isin(top_vendors)],inner=\"quart\",cut=0)\n",
    "\n",
    "# Set the title for the plot\n",
    "plt.title('Distribution of Total Amount for Top 10 Vendors')\n",
    "\n",
    "# Label the x-axis\n",
    "plt.xlabel('Total Amount')\n",
    "\n",
    "# Label the y-axis\n",
    "plt.ylabel('Vendor Names')\n",
    "\n",
    "# Display the plot\n",
    "plt.show()"
   ]
  },
  {
   "cell_type": "markdown",
   "id": "1bf3a2e5",
   "metadata": {},
   "source": [
    "The output is violin plot to visualize the distribution of Total Amount for the top 10 vendors, sorted by maximum Total Amount."
   ]
  },
  {
   "cell_type": "markdown",
   "id": "d233ea14",
   "metadata": {},
   "source": [
    "#### Top Brands by Purchase Price"
   ]
  },
  {
   "cell_type": "code",
   "execution_count": 66,
   "id": "db7801ad",
   "metadata": {},
   "outputs": [
    {
     "data": {
      "image/png": "[encoded data removed]",
      "text/plain": [
       "<Figure size 720x432 with 1 Axes>"
      ]
     },
     "metadata": {},
     "output_type": "display_data"
    }
   ],
   "source": [
    "# Sort the data\n",
    "vc = PurchaseFinal.groupby(['Description'])['PurchasePrice'].max().sort_values(ascending=False)[:10]\n",
    "\n",
    "# Create a horizontal bar chart\n",
    "plt.figure(figsize=(10, 6))\n",
    "plt.barh(vc.index, vc.values, color='purple')\n",
    "\n",
    "# Add title and labels\n",
    "plt.title('Top 10 Brands with Highest Purchase Price')  \n",
    "plt.xlabel('Purchase Price')  \n",
    "plt.ylabel('Brands')  \n",
    "\n",
    "# Invert the y-axis to display the highest value at the top\n",
    "plt.gca().invert_yaxis()\n",
    "\n",
    "# Display the plot\n",
    "plt.show()"
   ]
  },
  {
   "cell_type": "markdown",
   "id": "ef69804c",
   "metadata": {},
   "source": [
    "#### Top Vendors by Sales Amount"
   ]
  },
  {
   "cell_type": "code",
   "execution_count": 67,
   "id": "a8ab24ea",
   "metadata": {},
   "outputs": [
    {
     "data": {
      "image/png": "[encoded data removed]",
      "text/plain": [
       "<Figure size 864x360 with 2 Axes>"
      ]
     },
     "metadata": {},
     "output_type": "display_data"
    }
   ],
   "source": [
    "# First, it creates a pivot table of the SalesFinal DataFrame\n",
    "pivot_table = SalesFinal.pivot_table(index='VendorName', values='Total Amount', aggfunc='sum')\n",
    "\n",
    "# Next, the pivot table is sorted by total sales amount in descending order\n",
    "pivot_table = pivot_table.sort_values(by='Total Amount', ascending=False)[:10]\n",
    "\n",
    "# Then, a heatmap of the pivot table is created\n",
    "plt.figure(figsize=(12, 5))\n",
    "sns.heatmap(pivot_table, annot=True, cmap='YlGnBu')\n",
    "\n",
    "# Finally, the heatmap is titled and labeled\n",
    "plt.title('Top 10 vendors with highest sale amount (Heatmap)')\n",
    "plt.xlabel('Brands')\n",
    "\n",
    "# Show the plot\n",
    "plt.show()"
   ]
  },
  {
   "cell_type": "markdown",
   "id": "88121294",
   "metadata": {},
   "source": [
    "The output is heatmap of the top 10 vendors with the highest sales amount."
   ]
  },
  {
   "cell_type": "markdown",
   "id": "110189c3",
   "metadata": {},
   "source": [
    "#### Top Brands by Sale Amount"
   ]
  },
  {
   "cell_type": "code",
   "execution_count": 68,
   "id": "2a71a668",
   "metadata": {},
   "outputs": [
    {
     "data": {
      "image/png": "[encoded data removed]",
      "text/plain": [
       "<Figure size 432x432 with 1 Axes>"
      ]
     },
     "metadata": {},
     "output_type": "display_data"
    }
   ],
   "source": [
    "# Get the top 10 brands with the highest sale amount\n",
    "vc = SalesFinal.groupby(['Description'])['Total Amount'].max().sort_values(ascending=False)[:10]\n",
    "\n",
    "# Create a figure and axis\n",
    "plt.figure(figsize=(6,6))\n",
    "ax = plt.gca()\n",
    "\n",
    "# Create a donut chart\n",
    "wedges, texts, autotexts = ax.pie(vc.values, labels=vc.index, autopct='%1.1f%%', pctdistance=0.80, startangle=90, counterclock=False)\n",
    "\n",
    "# Create a white circle in the center to make it a donut chart\n",
    "center_circle = plt.Circle((0, 0), 0.60, fc='white')\n",
    "ax.add_artist(center_circle)\n",
    "\n",
    "# Set aspect ratio to equal to ensure a circular chart\n",
    "ax.axis('equal')\n",
    "\n",
    "# Add a title\n",
    "plt.title('Top 10 Brands with Highest Sale Amount')\n",
    "\n",
    "# Show the plot\n",
    "plt.show()"
   ]
  },
  {
   "cell_type": "markdown",
   "id": "f86e426f",
   "metadata": {},
   "source": [
    "The output is a donut chart showing the top 10 brands with the highest sale amount"
   ]
  },
  {
   "cell_type": "code",
   "execution_count": null,
   "id": "3197756d",
   "metadata": {},
   "outputs": [],
   "source": []
  }
 ],
 "metadata": {
  "kernelspec": {
   "display_name": "Python 3 (ipykernel)",
   "language": "python",
   "name": "python3"
  },
  "language_info": {
   "codemirror_mode": {
    "name": "ipython",
    "version": 3
   },
   "file_extension": ".py",
   "mimetype": "text/x-python",
   "name": "python",
   "nbconvert_exporter": "python",
   "pygments_lexer": "ipython3",
   "version": "3.9.12"
  }
 },
 "nbformat": 4,
 "nbformat_minor": 5
}
